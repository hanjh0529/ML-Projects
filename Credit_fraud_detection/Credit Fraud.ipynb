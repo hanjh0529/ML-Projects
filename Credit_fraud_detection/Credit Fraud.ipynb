{
 "cells": [
  {
   "cell_type": "code",
   "execution_count": null,
   "id": "c75f336b-bb4c-4a8a-b591-6f956ecf7224",
   "metadata": {
    "scrolled": true
   },
   "outputs": [],
   "source": [
    "!kaggle datasets download -d \"mlg-ulb/creditcardfraud\""
   ]
  },
  {
   "cell_type": "code",
   "execution_count": 1,
   "id": "963848dc-88c9-42c8-bcb4-9b1aeb4e980e",
   "metadata": {},
   "outputs": [
    {
     "data": {
      "text/plain": [
       "'C:\\\\Users\\\\hanjh\\\\Desktop\\\\Kaggle project\\\\Credit Fraud'"
      ]
     },
     "execution_count": 1,
     "metadata": {},
     "output_type": "execute_result"
    }
   ],
   "source": [
    "import os\n",
    "os.getcwd()\n",
    "# os.chdir(default_path)"
   ]
  },
  {
   "cell_type": "code",
   "execution_count": 2,
   "id": "a8264c4c-83f4-4974-9f15-cc0d7447b9b1",
   "metadata": {},
   "outputs": [],
   "source": [
    "import zipfile \n",
    "with zipfile.ZipFile(\"creditcardfraud.zip\", 'r') as file:\n",
    "    file.extractall('creditcard')"
   ]
  },
  {
   "cell_type": "code",
   "execution_count": 3,
   "id": "694380c3-a08a-4d94-bb04-2c914ff0758f",
   "metadata": {},
   "outputs": [
    {
     "data": {
      "text/plain": [
       "['creditcard.csv']"
      ]
     },
     "execution_count": 3,
     "metadata": {},
     "output_type": "execute_result"
    }
   ],
   "source": [
    "os.listdir('creditcard')"
   ]
  },
  {
   "cell_type": "code",
   "execution_count": 4,
   "id": "a4d5dc5e-8ae8-4a2c-b238-72a5da6337be",
   "metadata": {},
   "outputs": [],
   "source": [
    "import numpy as np\n",
    "import matplotlib.pyplot as plt\n",
    "import pandas as pd\n",
    "import seaborn as sns\n",
    "import mglearn\n",
    "from sklearn.model_selection import train_test_split, GridSearchCV, cross_val_score, ParameterGrid, RepeatedKFold, StratifiedKFold, RepeatedStratifiedKFold, StratifiedKFold\n",
    "from iterstrat.ml_stratifiers import RepeatedMultilabelStratifiedKFold\n",
    "from sklearn.feature_selection import RFECV, VarianceThreshold, SelectFromModel\n",
    "from sklearn.metrics import classification_report, confusion_matrix, roc_curve, roc_auc_score, mean_squared_error, f1_score\n",
    "from sklearn.preprocessing import MinMaxScaler, StandardScaler, RobustScaler, LabelBinarizer, label_binarize\n",
    "from sklearn.pipeline import Pipeline, make_pipeline\n",
    "from imblearn.pipeline import Pipeline as Pipeline_imb\n",
    "from imblearn.over_sampling import SMOTE\n",
    "from sklearn.multiclass import OneVsRestClassifier\n",
    "from sklearn.decomposition import PCA, KernelPCA\n",
    "from sklearn.manifold import TSNE\n",
    "from sklearn.neighbors import KNeighborsClassifier\n",
    "from sklearn.linear_model import LogisticRegression, LogisticRegressionCV, LinearRegression, Ridge, Lasso\n",
    "from sklearn.ensemble import RandomForestClassifier, GradientBoostingClassifier, RandomForestRegressor, GradientBoostingRegressor\n",
    "from sklearn.svm import LinearSVC, SVC, SVR\n",
    "from sklearn.neural_network import MLPClassifier, MLPRegressor\n",
    "from sklearn.compose import ColumnTransformer\n",
    "from sklearn.impute import SimpleImputer\n",
    "from sklearn.preprocessing import OneHotEncoder, StandardScaler\n",
    "from summarytools import dfSummary\n",
    "from sklearn.metrics import roc_auc_score, RocCurveDisplay, precision_recall_curve\n",
    "from sklearn.model_selection import GridSearchCV, RepeatedStratifiedKFold, cross_val_score\n",
    "from sklearn.metrics import classification_report, mean_squared_error, r2_score\n",
    "from sklearn.metrics import accuracy_score, f1_score, precision_score, recall_score, classification_report, confusion_matrix\n",
    "import colorama\n",
    "from colorama import Fore, Style  # maakes strings colored\n",
    "# !pip3 install termcolor\n",
    "from termcolor import colored\n",
    "\n",
    "from warnings import simplefilter\n",
    "simplefilter(action='ignore', category=FutureWarning)\n",
    "import warnings\n",
    "warnings.filterwarnings(action='ignore')"
   ]
  },
  {
   "cell_type": "code",
   "execution_count": 5,
   "id": "9f396bb3-bc20-452c-aa83-424e92c57bcc",
   "metadata": {},
   "outputs": [],
   "source": [
    "credit_df = pd.read_csv(\"creditcard\\\\creditcard.csv\")"
   ]
  },
  {
   "cell_type": "code",
   "execution_count": 6,
   "id": "66e48008-0272-4d86-859d-ec875d42a966",
   "metadata": {},
   "outputs": [
    {
     "data": {
      "text/html": [
       "<div>\n",
       "<style scoped>\n",
       "    .dataframe tbody tr th:only-of-type {\n",
       "        vertical-align: middle;\n",
       "    }\n",
       "\n",
       "    .dataframe tbody tr th {\n",
       "        vertical-align: top;\n",
       "    }\n",
       "\n",
       "    .dataframe thead th {\n",
       "        text-align: right;\n",
       "    }\n",
       "</style>\n",
       "<table border=\"1\" class=\"dataframe\">\n",
       "  <thead>\n",
       "    <tr style=\"text-align: right;\">\n",
       "      <th></th>\n",
       "      <th>Time</th>\n",
       "      <th>V1</th>\n",
       "      <th>V2</th>\n",
       "      <th>V3</th>\n",
       "      <th>V4</th>\n",
       "      <th>V5</th>\n",
       "      <th>V6</th>\n",
       "      <th>V7</th>\n",
       "      <th>V8</th>\n",
       "      <th>V9</th>\n",
       "      <th>...</th>\n",
       "      <th>V21</th>\n",
       "      <th>V22</th>\n",
       "      <th>V23</th>\n",
       "      <th>V24</th>\n",
       "      <th>V25</th>\n",
       "      <th>V26</th>\n",
       "      <th>V27</th>\n",
       "      <th>V28</th>\n",
       "      <th>Amount</th>\n",
       "      <th>Class</th>\n",
       "    </tr>\n",
       "  </thead>\n",
       "  <tbody>\n",
       "    <tr>\n",
       "      <th>0</th>\n",
       "      <td>0.0</td>\n",
       "      <td>-1.359807</td>\n",
       "      <td>-0.072781</td>\n",
       "      <td>2.536347</td>\n",
       "      <td>1.378155</td>\n",
       "      <td>-0.338321</td>\n",
       "      <td>0.462388</td>\n",
       "      <td>0.239599</td>\n",
       "      <td>0.098698</td>\n",
       "      <td>0.363787</td>\n",
       "      <td>...</td>\n",
       "      <td>-0.018307</td>\n",
       "      <td>0.277838</td>\n",
       "      <td>-0.110474</td>\n",
       "      <td>0.066928</td>\n",
       "      <td>0.128539</td>\n",
       "      <td>-0.189115</td>\n",
       "      <td>0.133558</td>\n",
       "      <td>-0.021053</td>\n",
       "      <td>149.62</td>\n",
       "      <td>0</td>\n",
       "    </tr>\n",
       "    <tr>\n",
       "      <th>1</th>\n",
       "      <td>0.0</td>\n",
       "      <td>1.191857</td>\n",
       "      <td>0.266151</td>\n",
       "      <td>0.166480</td>\n",
       "      <td>0.448154</td>\n",
       "      <td>0.060018</td>\n",
       "      <td>-0.082361</td>\n",
       "      <td>-0.078803</td>\n",
       "      <td>0.085102</td>\n",
       "      <td>-0.255425</td>\n",
       "      <td>...</td>\n",
       "      <td>-0.225775</td>\n",
       "      <td>-0.638672</td>\n",
       "      <td>0.101288</td>\n",
       "      <td>-0.339846</td>\n",
       "      <td>0.167170</td>\n",
       "      <td>0.125895</td>\n",
       "      <td>-0.008983</td>\n",
       "      <td>0.014724</td>\n",
       "      <td>2.69</td>\n",
       "      <td>0</td>\n",
       "    </tr>\n",
       "    <tr>\n",
       "      <th>2</th>\n",
       "      <td>1.0</td>\n",
       "      <td>-1.358354</td>\n",
       "      <td>-1.340163</td>\n",
       "      <td>1.773209</td>\n",
       "      <td>0.379780</td>\n",
       "      <td>-0.503198</td>\n",
       "      <td>1.800499</td>\n",
       "      <td>0.791461</td>\n",
       "      <td>0.247676</td>\n",
       "      <td>-1.514654</td>\n",
       "      <td>...</td>\n",
       "      <td>0.247998</td>\n",
       "      <td>0.771679</td>\n",
       "      <td>0.909412</td>\n",
       "      <td>-0.689281</td>\n",
       "      <td>-0.327642</td>\n",
       "      <td>-0.139097</td>\n",
       "      <td>-0.055353</td>\n",
       "      <td>-0.059752</td>\n",
       "      <td>378.66</td>\n",
       "      <td>0</td>\n",
       "    </tr>\n",
       "    <tr>\n",
       "      <th>3</th>\n",
       "      <td>1.0</td>\n",
       "      <td>-0.966272</td>\n",
       "      <td>-0.185226</td>\n",
       "      <td>1.792993</td>\n",
       "      <td>-0.863291</td>\n",
       "      <td>-0.010309</td>\n",
       "      <td>1.247203</td>\n",
       "      <td>0.237609</td>\n",
       "      <td>0.377436</td>\n",
       "      <td>-1.387024</td>\n",
       "      <td>...</td>\n",
       "      <td>-0.108300</td>\n",
       "      <td>0.005274</td>\n",
       "      <td>-0.190321</td>\n",
       "      <td>-1.175575</td>\n",
       "      <td>0.647376</td>\n",
       "      <td>-0.221929</td>\n",
       "      <td>0.062723</td>\n",
       "      <td>0.061458</td>\n",
       "      <td>123.50</td>\n",
       "      <td>0</td>\n",
       "    </tr>\n",
       "    <tr>\n",
       "      <th>4</th>\n",
       "      <td>2.0</td>\n",
       "      <td>-1.158233</td>\n",
       "      <td>0.877737</td>\n",
       "      <td>1.548718</td>\n",
       "      <td>0.403034</td>\n",
       "      <td>-0.407193</td>\n",
       "      <td>0.095921</td>\n",
       "      <td>0.592941</td>\n",
       "      <td>-0.270533</td>\n",
       "      <td>0.817739</td>\n",
       "      <td>...</td>\n",
       "      <td>-0.009431</td>\n",
       "      <td>0.798278</td>\n",
       "      <td>-0.137458</td>\n",
       "      <td>0.141267</td>\n",
       "      <td>-0.206010</td>\n",
       "      <td>0.502292</td>\n",
       "      <td>0.219422</td>\n",
       "      <td>0.215153</td>\n",
       "      <td>69.99</td>\n",
       "      <td>0</td>\n",
       "    </tr>\n",
       "  </tbody>\n",
       "</table>\n",
       "<p>5 rows × 31 columns</p>\n",
       "</div>"
      ],
      "text/plain": [
       "   Time        V1        V2        V3        V4        V5        V6        V7  \\\n",
       "0   0.0 -1.359807 -0.072781  2.536347  1.378155 -0.338321  0.462388  0.239599   \n",
       "1   0.0  1.191857  0.266151  0.166480  0.448154  0.060018 -0.082361 -0.078803   \n",
       "2   1.0 -1.358354 -1.340163  1.773209  0.379780 -0.503198  1.800499  0.791461   \n",
       "3   1.0 -0.966272 -0.185226  1.792993 -0.863291 -0.010309  1.247203  0.237609   \n",
       "4   2.0 -1.158233  0.877737  1.548718  0.403034 -0.407193  0.095921  0.592941   \n",
       "\n",
       "         V8        V9  ...       V21       V22       V23       V24       V25  \\\n",
       "0  0.098698  0.363787  ... -0.018307  0.277838 -0.110474  0.066928  0.128539   \n",
       "1  0.085102 -0.255425  ... -0.225775 -0.638672  0.101288 -0.339846  0.167170   \n",
       "2  0.247676 -1.514654  ...  0.247998  0.771679  0.909412 -0.689281 -0.327642   \n",
       "3  0.377436 -1.387024  ... -0.108300  0.005274 -0.190321 -1.175575  0.647376   \n",
       "4 -0.270533  0.817739  ... -0.009431  0.798278 -0.137458  0.141267 -0.206010   \n",
       "\n",
       "        V26       V27       V28  Amount  Class  \n",
       "0 -0.189115  0.133558 -0.021053  149.62      0  \n",
       "1  0.125895 -0.008983  0.014724    2.69      0  \n",
       "2 -0.139097 -0.055353 -0.059752  378.66      0  \n",
       "3 -0.221929  0.062723  0.061458  123.50      0  \n",
       "4  0.502292  0.219422  0.215153   69.99      0  \n",
       "\n",
       "[5 rows x 31 columns]"
      ]
     },
     "execution_count": 6,
     "metadata": {},
     "output_type": "execute_result"
    }
   ],
   "source": [
    "credit_df.head()"
   ]
  },
  {
   "cell_type": "code",
   "execution_count": 7,
   "id": "c3e08b88-4b6e-406a-ba88-d83e3ea60d7f",
   "metadata": {},
   "outputs": [
    {
     "name": "stdout",
     "output_type": "stream",
     "text": [
      "<class 'pandas.core.frame.DataFrame'>\n",
      "RangeIndex: 284807 entries, 0 to 284806\n",
      "Data columns (total 31 columns):\n",
      " #   Column  Non-Null Count   Dtype  \n",
      "---  ------  --------------   -----  \n",
      " 0   Time    284807 non-null  float64\n",
      " 1   V1      284807 non-null  float64\n",
      " 2   V2      284807 non-null  float64\n",
      " 3   V3      284807 non-null  float64\n",
      " 4   V4      284807 non-null  float64\n",
      " 5   V5      284807 non-null  float64\n",
      " 6   V6      284807 non-null  float64\n",
      " 7   V7      284807 non-null  float64\n",
      " 8   V8      284807 non-null  float64\n",
      " 9   V9      284807 non-null  float64\n",
      " 10  V10     284807 non-null  float64\n",
      " 11  V11     284807 non-null  float64\n",
      " 12  V12     284807 non-null  float64\n",
      " 13  V13     284807 non-null  float64\n",
      " 14  V14     284807 non-null  float64\n",
      " 15  V15     284807 non-null  float64\n",
      " 16  V16     284807 non-null  float64\n",
      " 17  V17     284807 non-null  float64\n",
      " 18  V18     284807 non-null  float64\n",
      " 19  V19     284807 non-null  float64\n",
      " 20  V20     284807 non-null  float64\n",
      " 21  V21     284807 non-null  float64\n",
      " 22  V22     284807 non-null  float64\n",
      " 23  V23     284807 non-null  float64\n",
      " 24  V24     284807 non-null  float64\n",
      " 25  V25     284807 non-null  float64\n",
      " 26  V26     284807 non-null  float64\n",
      " 27  V27     284807 non-null  float64\n",
      " 28  V28     284807 non-null  float64\n",
      " 29  Amount  284807 non-null  float64\n",
      " 30  Class   284807 non-null  int64  \n",
      "dtypes: float64(30), int64(1)\n",
      "memory usage: 67.4 MB\n"
     ]
    }
   ],
   "source": [
    "credit_df.info()"
   ]
  },
  {
   "cell_type": "markdown",
   "id": "572f0b29-2a9f-482f-b4b7-1df2461e34d0",
   "metadata": {},
   "source": [
    "Feature Technicalities:\r\n",
    "PCA Transformation: The description of the data says that all the features went through a PCA transformation (Dimensionality Reduction technique) (Except for time and amount).\r\n",
    "Scaling: Keep in mind that in order to implement a PCA transformation features need to be previously scaled. (In this case, all the V features have been scaled or at least that is what we are assuming the people that develop the dataset did.)"
   ]
  },
  {
   "cell_type": "code",
   "execution_count": 9,
   "id": "5e48f7f2-5b68-4247-9ef3-77e14de121fb",
   "metadata": {},
   "outputs": [
    {
     "name": "stdout",
     "output_type": "stream",
     "text": [
      "No Fraud cases:  99.83 % of the dataset\n",
      "Fraud cases:  0.17 % of the dataset\n"
     ]
    }
   ],
   "source": [
    "print('No Fraud cases: ', round(credit_df['Class'].value_counts()[0]/len(credit_df) * 100, 2), '% of the dataset')\n",
    "print('Fraud cases: ', round(credit_df['Class'].value_counts()[1]/len(credit_df) * 100, 2), '% of the dataset')"
   ]
  },
  {
   "cell_type": "markdown",
   "id": "36d12765-941a-46c1-9a20-135d5cf2e631",
   "metadata": {},
   "source": [
    "### OverSampling / UnderSampling \n",
    "- **TomekLink** : Tomek Links is an under-sampling technique that was developed in 1976 by Ivan Tomek. It is one of a modification from Condensed Nearest Neighbors (CNN). It can be used to find desired samples of data from the majority class that is having the lowest Euclidean distance with the minority class data and then remove it.\n",
    "    * Pros: It is less aggressive than other undersampling methods, which means it typically retains more data.\n",
    "    * Cons: Computationally expensive in large dataset and it may not reduce the majroity class enough to achieve a balanced dataset.\n",
    "\n",
    "<br/>\n",
    "\n",
    "- **ClusterCentroids** : ClusterCentroids uses clustering algorithms like k-means to create clusters of the majority class and then replaces each cluster with its centroid. This reduces the number of majority class samples while keeping the overall distribution and characteristics of the class.\n",
    "    - Pros: It reduces the dataset size significantly by representing large groups of majority class instances with centroids.\n",
    "            Retains Data Distribution: By clustering and using centroids, the method retains some of the original data distribution. \n",
    "    - Cons: Since data points are replaced by centroids, some detailed information from the original data is lost.\n",
    "            The effectiveness of the technique depends on the appropriate choice of the number of clusters, which might require experimentation.\n",
    "\n",
    "<br/> \n",
    "\n",
    "- **RandomUnderSampler** : RandomUnderSampler randomly removes samples from the majority class until the class distribution is balanced. It’s the simplest form of undersampling.\n",
    "    - Pros: It's straightforward and easy to implement. It is computationally efficient.\n",
    "    - Cons: Randomly removing samples can lead to loss of important information, there’s a risk of introducing bias if certain subgroups of the majority class are underrepresented\n",
    " \n",
    "<br/>\n",
    "\n",
    "- **Condensed Nearest Neighbors(CNN)**: \n",
    "Condensed Nearest Neighbors (CNN) is an undersampling technique used to address class imbalance by refining the dataset through selective instance removal. CNN uses a nearest neighbor classifier to evaluate the importance of each instance. It condenses the dataset by removing instances that are less important or redundant. Specifically, it removes instances that are correctly classified by the nearest neighbors and that don’t contribute to defining the decision boundary <br/>\n",
    "    - Pros: CNN significantly reduces the number of majority class samples, which decreases computational cost and storage requirements for training models / CNN focuses on retaining samples that are near the decision boundary between classes / Prevents Overfitting\n",
    "    - Cons: Not Always Effective for Complex Boundaries / Computational Cost of Finding Nearest Neighbors\n"
   ]
  },
  {
   "cell_type": "markdown",
   "id": "6334df92-125b-46ec-9389-ffb8ff62d5a9",
   "metadata": {},
   "source": [
    "### 1. TomekLink\n",
    "\n",
    "Combining SMOTE and Tomek Links\n",
    "\n",
    "A combination of over-sampling the minority (abnormal) class and under-sampling the majority (normal) class can achieve better classifier performance than only under-sampling the majority class. This method was first introduced by Batista et al. (2003).\n",
    "\n",
    "The process of SMOTE-Tomek Links is as follows.\n",
    "\n",
    "1. Start of SMOTE: choose random data from the minority class.\n",
    "2. Calculate the distance between the random data and its k nearest neighbors.\n",
    "3. Multiply the difference with a random number between 0 and 1, then add the result to the minority class as a synthetic sample.\n",
    "4. Repeat step number 2–3 until the desired proportion of minority class is met (End of SMOTE).\n",
    "5. Start of Tomek Links: choose random data from the majority class.\n",
    "6. If the random data’s nearest neighbor is the data from the minority class (i.e. create the Tomek Link), then remove the Tomek Link."
   ]
  },
  {
   "cell_type": "code",
   "execution_count": 138,
   "id": "6f881fdc-6bad-4a04-9cf1-7759acdecb90",
   "metadata": {
    "scrolled": true
   },
   "outputs": [
    {
     "name": "stdout",
     "output_type": "stream",
     "text": [
      "Original class distribution: Counter({0: 284315, 1: 492})\n",
      "Class distribution after SMOTE: Counter({0: 199008, 1: 199008})\n",
      "Class distribution after Tomek Links: Counter({0: 199008, 1: 199008})\n"
     ]
    }
   ],
   "source": [
    "from sklearn.datasets import make_classification\n",
    "from imblearn.over_sampling import SMOTE\n",
    "from imblearn.under_sampling import TomekLinks\n",
    "from collections import Counter\n",
    "import matplotlib.pyplot as plt\n",
    "import seaborn as sns\n",
    "\n",
    "# Step 1: Create a sample imbalanced dataset\n",
    "X = credit_df.drop(columns='Class')\n",
    "y = credit_df['Class']\n",
    "print(f\"Original class distribution: {Counter(y)}\")\n",
    "\n",
    "# Step 2: Split the dataset into train and test sets\n",
    "X_train, X_test, y_train, y_test = train_test_split(X, y, test_size=0.3, random_state=42)\n",
    "\n",
    "# Step 3: Apply StandardScaler to scale the features\n",
    "scaler = StandardScaler()\n",
    "X_train_scaled = scaler.fit_transform(X_train)\n",
    "X_test_scaled = scaler.transform(X_test)\n",
    "\n",
    "# Step 4: Apply SMOTE to the scaled training data\n",
    "smote = SMOTE(sampling_strategy='auto', random_state=42)\n",
    "X_train_smote, y_train_smote = smote.fit_resample(X_train_scaled, y_train)\n",
    "print(f\"Class distribution after SMOTE: {Counter(y_train_smote)}\")\n",
    "\n",
    "# Step 5: Apply Tomek Links to clean up the data after SMOTE\n",
    "tomek = TomekLinks(sampling_strategy='majority')\n",
    "X_train_cleaned, y_train_cleaned = tomek.fit_resample(X_train_smote, y_train_smote)\n",
    "print(f\"Class distribution after Tomek Links: {Counter(y_train_cleaned)}\")\n"
   ]
  },
  {
   "cell_type": "markdown",
   "id": "965e0a5f-4020-49d5-895b-044b1c68c0db",
   "metadata": {},
   "source": [
    "***No Tomek Links Detected:*** <br/>\n",
    "Tomek Links identifies pairs of nearest neighbors from opposite classes where one instance is misclassified by its nearest neighbor. If there are no such pairs in the dataset, Tomek Links won't remove any instances. <br/>\n",
    "In other words, after SMOTE, the synthetic samples may not create any Tomek Links if the decision boundaries are not affected significantly."
   ]
  },
  {
   "cell_type": "markdown",
   "id": "ff0e7a16-ba77-44a4-9ebe-851040f50841",
   "metadata": {},
   "source": [
    "### 2. ClusterCentroid\n",
    "\n",
    "Cluster Centroids is an undersampling technique that simplifies the majority class in an imbalanced dataset by using clustering. The goal is to reduce the number of majority class instances while retaining the dataset's overall structure and information."
   ]
  },
  {
   "cell_type": "raw",
   "id": "95ba666b-c135-4f3d-bb3e-cef610d76308",
   "metadata": {},
   "source": [
    "from imblearn.over_sampling import SMOTE\n",
    "from imblearn.under_sampling import ClusterCentroids\n",
    "from collections import Counter\n",
    "\n",
    "# Apply SMOTE to the scaled training data\n",
    "smote = SMOTE(sampling_strategy='auto', random_state=42)\n",
    "X_train_smote, y_train_smote = smote.fit_resample(X_train_scaled, y_train)\n",
    "print(f\"Class distribution after SMOTE: {Counter(y_train_smote)}\")\n",
    "\n",
    "# Apply Cluster Centroids to the data after SMOTE\n",
    "cluster_centroids = ClusterCentroids(sampling_strategy='auto', random_state=42)\n",
    "X_train_resampled, y_train_resampled = cluster_centroids.fit_resample(X_train_smote, y_train_smote)\n",
    "print(f\"Class distribution after Cluster Centroids: {Counter(y_train_resampled)}\")"
   ]
  },
  {
   "cell_type": "markdown",
   "id": "578e6b78-d991-4061-a53d-57090a75ddef",
   "metadata": {},
   "source": [
    "### 3.Random Undersampler"
   ]
  },
  {
   "cell_type": "code",
   "execution_count": 96,
   "id": "dc373a85-8715-49a3-a51a-f96f3e93d409",
   "metadata": {
    "scrolled": true
   },
   "outputs": [
    {
     "name": "stdout",
     "output_type": "stream",
     "text": [
      "Class distribution after SMOTE: Counter({0: 199008, 1: 199008})\n",
      "Class distribution after Random Undersampling: Counter({0: 5000, 1: 5000})\n"
     ]
    }
   ],
   "source": [
    "from imblearn.under_sampling import RandomUnderSampler\n",
    "column_names = X.columns\n",
    "scaler = StandardScaler()\n",
    "X_train_scaled = scaler.fit_transform(X_train)\n",
    "X_test_scaled = scaler.transform(X_test)\n",
    "X_train_scaled = pd.DataFrame(X_train_scaled, columns= column_names)\n",
    "X_test_scaled = pd.DataFrame(X_test_scaled, columns = column_names)\n",
    "\n",
    "# Apply SMOTE to the scaled training data\n",
    "smote = SMOTE(sampling_strategy='auto', random_state=42)\n",
    "X_train_smote, y_train_smote = smote.fit_resample(X_train_scaled, y_train)\n",
    "print(f\"Class distribution after SMOTE: {Counter(y_train_smote)}\")\n",
    "\n",
    "# Apply Random Undersampling to the data after SMOTE\n",
    "random_undersampler = RandomUnderSampler(sampling_strategy={0:5000, 1:5000}, random_state=42) # 'auto' to custom sampling strategy \n",
    "X_train_resampled, y_train_resampled = random_undersampler.fit_resample(X_train_smote, y_train_smote)\n",
    "print(f\"Class distribution after Random Undersampling: {Counter(y_train_resampled)}\")"
   ]
  },
  {
   "cell_type": "markdown",
   "id": "d5881773-404f-4979-92c4-3df5a808ff9d",
   "metadata": {},
   "source": [
    "Results:\n",
    "1. No change in class distribution likely occurs because setting Random Undersampling strategy to 'auto' doesn't reduce the majority class enough after SMOTE balances the data. <br/>\n",
    "2. Adjust the sampling_strategy in Random Undersampling to reduce the majority class more aggressively if needed.\n",
    "3. Custom sampling strategy (group 0: 5000 and group 1: 5000)"
   ]
  },
  {
   "cell_type": "markdown",
   "id": "150916a1-2c40-4b8c-b75c-3f6ed97b6bbd",
   "metadata": {},
   "source": [
    "### 4. Condensed Nearest Neighbors (CNN)"
   ]
  },
  {
   "cell_type": "raw",
   "id": "3fce4730-683d-48ba-9e0a-213155796ac2",
   "metadata": {},
   "source": [
    "from imblearn.under_sampling import CondensedNearestNeighbour\n",
    "\n",
    "# Step 1: Create a sample imbalanced dataset\n",
    "# Assuming you have loaded your dataset into credit_df\n",
    "X = credit_df.drop(columns='Class')\n",
    "y = credit_df['Class']\n",
    "print(f\"Original class distribution: {Counter(y)}\")\n",
    "\n",
    "# Step 2: Split the dataset into train and test sets\n",
    "X_train, X_test, y_train, y_test = train_test_split(X, y, test_size=0.3, random_state=42)\n",
    "\n",
    "# Step 3: Apply StandardScaler to scale the features\n",
    "scaler = StandardScaler()\n",
    "X_train_scaled = scaler.fit_transform(X_train)\n",
    "X_test_scaled = scaler.transform(X_test)\n",
    "\n",
    "# Step 4: Apply SMOTE to the scaled training data\n",
    "smote = SMOTE(sampling_strategy='auto', random_state=42)\n",
    "X_train_smote, y_train_smote = smote.fit_resample(X_train_scaled, y_train)\n",
    "print(f\"Class distribution after SMOTE: {Counter(y_train_smote)}\")\n",
    "\n",
    "# Step 5: Apply Condensed Nearest Neighbors to clean up the data after SMOTE\n",
    "cnn = CondensedNearestNeighbour(sampling_strategy='auto', random_state=42)\n",
    "X_train_CNN, y_train_CNN = cnn.fit_resample(X_train_smote, y_train_smote)\n",
    "print(f\"Class distribution after Condensed Nearest Neighbors: {Counter(y_train_CNN)}\")\n",
    "\n",
    "# Optionally, you can visualize the results\n",
    "sns.countplot(x=y_train_CNN)\n",
    "plt.title(\"Class distribution after SMOTE and Condensed Nearest Neighbors\")\n",
    "plt.show()"
   ]
  },
  {
   "cell_type": "markdown",
   "id": "6103925c-b48f-49c7-bbdd-c366793ec286",
   "metadata": {},
   "source": [
    "### Evaluation Metrics\n",
    "\n",
    "Since this is unbalanced model and **False Negative** is very costly in the case of credit card fraud detection,\n",
    "***Recall*** is a more important evaluation metrics than accuracy and precision."
   ]
  },
  {
   "cell_type": "markdown",
   "id": "97dbd03e-d7e3-433c-bb48-8f6b08d5fe1b",
   "metadata": {},
   "source": [
    "\n",
    "Recal: True Positives/ (True Positive + False Negative).\r\n",
    "\r\n",
    "In the case of credit card fraud detection, we want to avoid false negatives as much as possible. Fraud transactions cost us a lot and thus we want to take appropriate measures to prevent the If a fraudulent transaction is not detected (a false negative), the consequences can be severe. The customer might suffer financial loss, and the credit card issuer might face legal and reputational damage. \n",
    "\n",
    "**Note:**\n",
    "Precision vs. Recall: While a high recall is essential, it often comes with a trade-off in precision (the proportion of predicted fraud cases that are actually fraud). This might mean more legitimate transactions are flagged as fraudulent (false positives), which can inconvenience customers. However, this is usually less costly than missing actual fraud.ud."
   ]
  },
  {
   "cell_type": "markdown",
   "id": "bd2c4d40-809a-43c7-809c-ac4b177f1da1",
   "metadata": {},
   "source": [
    "Is the positive class more important?\n",
    "- Are False Negatives and False Positives Equally Important?\n",
    "    - **Use F1-Measure**\n",
    "- Are False Negatives More Important?\n",
    "    - **Use F2-Measure**\n",
    "- Are False Positives More Important?\n",
    "    - **Use F0.5-Measure**"
   ]
  },
  {
   "cell_type": "markdown",
   "id": "811a644d-a78b-41c1-8d44-1bcc780207f8",
   "metadata": {},
   "source": [
    "### Dealing with Imbalanced Dataset\n",
    "\n",
    "Apply three following methods to Random Forest model and compare Recall and F2-Score\n",
    "\n",
    "    1. Without Sampling technique\n",
    "    2. SMOTE & Tomek Links\n",
    "    3. SMOTE & Random Undersampler\n",
    "    4. SMOTE & CNN"
   ]
  },
  {
   "cell_type": "code",
   "execution_count": 155,
   "id": "b32fd80d-c154-4bfe-afd8-783f7b6c9005",
   "metadata": {},
   "outputs": [],
   "source": [
    "df = credit_df.copy()\n",
    "df.drop_duplicates(inplace=True)\n",
    "df = df.drop('Time', axis=1)\n",
    "\n",
    "X = df.drop('Class', axis=1)\n",
    "y = df['Class']\n",
    "X_train, X_test, y_train, y_test = train_test_split(X, y, stratify=y, test_size = 0.3, random_state = 42)"
   ]
  },
  {
   "cell_type": "code",
   "execution_count": 156,
   "id": "8919ee2f-ac31-492b-b9ab-4f0ab9fa1d89",
   "metadata": {},
   "outputs": [],
   "source": [
    "# Creating function for scaling\n",
    "def Standard_Scaler (df, col_names):\n",
    "    features = df[col_names]\n",
    "    scaler = StandardScaler().fit(features.values)\n",
    "    features = scaler.transform(features.values)\n",
    "    df[col_names] = features\n",
    "    return df\n",
    "\n",
    "col_names = ['Amount']\n",
    "X_train = Standard_Scaler (X_train, col_names)\n",
    "X_test = Standard_Scaler (X_test, col_names)"
   ]
  },
  {
   "cell_type": "markdown",
   "id": "c07cc4e0-fc54-4271-b37a-8f6151519282",
   "metadata": {},
   "source": [
    "### Without Sampling technique"
   ]
  },
  {
   "cell_type": "code",
   "execution_count": 172,
   "id": "e8861222-ab18-431e-886e-ec2f30e0c708",
   "metadata": {},
   "outputs": [
    {
     "name": "stdout",
     "output_type": "stream",
     "text": [
      "Cross Validation Recall scores are: [0.79090909 0.79279279 0.7       ]\n",
      "Average Cross Validation Recall score: 0.7612339612339613\n"
     ]
    }
   ],
   "source": [
    "kf = StratifiedKFold(n_splits=3, shuffle=False)\n",
    "rf = RandomForestClassifier(n_estimators=100, random_state=13)\n",
    "#cross_val_score(rf, X_train, y_train, cv=kf, scoring='recall')\n",
    "score = cross_val_score(rf, X_train, y_train, cv=kf, scoring='recall')\n",
    "print(\"Cross Validation Recall scores are: {}\".format(score))\n",
    "print(\"Average Cross Validation Recall score: {}\".format(score.mean()))"
   ]
  },
  {
   "cell_type": "code",
   "execution_count": 173,
   "id": "16faf4e5-9c41-4e48-a292-5c8e786e7d8a",
   "metadata": {},
   "outputs": [
    {
     "name": "stdout",
     "output_type": "stream",
     "text": [
      "[[84972     4]\n",
      " [   35   107]]\n"
     ]
    }
   ],
   "source": [
    "from sklearn.model_selection import GridSearchCV\n",
    "\n",
    "params = {\n",
    "    'n_estimators': [50, 100],\n",
    "    'max_depth': [4, 12],\n",
    "    'random_state': [13]\n",
    "}\n",
    "\n",
    "grid_rf = GridSearchCV(rf, param_grid=params, cv=kf, \n",
    "                          scoring='recall').fit(X_train, y_train)\n",
    "\n",
    "y_pred = grid_rf.predict(X_test)\n",
    "\n",
    "from sklearn.metrics import confusion_matrix, recall_score, precision_score, f1_score, accuracy_score\n",
    "from sklearn.metrics import fbeta_score, classification_report\n",
    "\n",
    "cm = confusion_matrix(y_test, y_pred)\n",
    "\n",
    "rf_Recall = recall_score(y_test, y_pred)\n",
    "rf_Precision = precision_score(y_test, y_pred)\n",
    "rf_f2 = fbeta_score(y_test, y_pred, beta=2, average='binary')\n",
    "rf_accuracy = accuracy_score(y_test, y_pred)\n",
    "\n",
    "print(cm)"
   ]
  },
  {
   "cell_type": "code",
   "execution_count": 174,
   "id": "0099777b-71e8-4765-819e-1e769e47433b",
   "metadata": {},
   "outputs": [
    {
     "data": {
      "text/html": [
       "<div>\n",
       "<style scoped>\n",
       "    .dataframe tbody tr th:only-of-type {\n",
       "        vertical-align: middle;\n",
       "    }\n",
       "\n",
       "    .dataframe tbody tr th {\n",
       "        vertical-align: top;\n",
       "    }\n",
       "\n",
       "    .dataframe thead th {\n",
       "        text-align: right;\n",
       "    }\n",
       "</style>\n",
       "<table border=\"1\" class=\"dataframe\">\n",
       "  <thead>\n",
       "    <tr style=\"text-align: right;\">\n",
       "      <th></th>\n",
       "      <th>Random Forest with</th>\n",
       "      <th>Recall</th>\n",
       "      <th>Precision</th>\n",
       "      <th>F2 Score</th>\n",
       "      <th>Accuracy</th>\n",
       "    </tr>\n",
       "  </thead>\n",
       "  <tbody>\n",
       "    <tr>\n",
       "      <th>0</th>\n",
       "      <td>No Under/Oversampling</td>\n",
       "      <td>0.753521</td>\n",
       "      <td>0.963964</td>\n",
       "      <td>0.787923</td>\n",
       "      <td>0.999542</td>\n",
       "    </tr>\n",
       "  </tbody>\n",
       "</table>\n",
       "</div>"
      ],
      "text/plain": [
       "      Random Forest with    Recall  Precision  F2 Score  Accuracy\n",
       "0  No Under/Oversampling  0.753521   0.963964  0.787923  0.999542"
      ]
     },
     "execution_count": 174,
     "metadata": {},
     "output_type": "execute_result"
    }
   ],
   "source": [
    "ndf = [(rf_Recall, rf_Precision, rf_f2, rf_accuracy)]\n",
    "\n",
    "rf_score = pd.DataFrame(data = ndf, columns=['Recall','Precision','F2 Score', 'Accuracy'])\n",
    "rf_score.insert(0, 'Random Forest with', 'No Under/Oversampling')\n",
    "rf_score"
   ]
  },
  {
   "cell_type": "code",
   "execution_count": 175,
   "id": "a3f14ab7-6f2d-4ba7-a0e3-6998fdf6d11d",
   "metadata": {},
   "outputs": [
    {
     "data": {
      "image/png": "[encoded data removed]",
      "text/plain": [
       "<Figure size 800x600 with 1 Axes>"
      ]
     },
     "metadata": {},
     "output_type": "display_data"
    }
   ],
   "source": [
    "### PR Curve\n",
    "y_probs = grid_rf.predict_proba(X_test)[:, 1]\n",
    "precision, recall, thresholds = precision_recall_curve(y_test, y_probs)\n",
    "average_precision = average_precision_score(y_test, y_probs)\n",
    "\n",
    "# Step 4: Plot the Precision-Recall curve\n",
    "plt.figure(figsize=(8, 6))\n",
    "plt.plot(recall, precision, label=f'PR curve (AP = {average_precision:.2f})')\n",
    "plt.xlabel('Recall')\n",
    "plt.ylabel('Precision')\n",
    "plt.title('Precision-Recall Curve')\n",
    "plt.legend(loc='best')\n",
    "plt.grid(True)\n",
    "plt.show()"
   ]
  },
  {
   "cell_type": "markdown",
   "id": "b35aad78-40f3-4046-89a2-31ce78d134da",
   "metadata": {},
   "source": [
    "#### SMOTETomek \n",
    "SMOTETomek is a combination of SMOTE and Tomek Links, where SMOTE first increases the minority class samples, and then Tomek Links removes overlapping majority class samples."
   ]
  },
  {
   "cell_type": "code",
   "execution_count": 177,
   "id": "b64a0b9b-7d9a-4fd1-aa28-f384340eb0cd",
   "metadata": {},
   "outputs": [
    {
     "name": "stdout",
     "output_type": "stream",
     "text": [
      "Original class distribution: Counter({0: 198277, 1: 331})\n",
      "Resampled class distribution: Counter({0: 198277, 1: 198277})\n"
     ]
    }
   ],
   "source": [
    "from imblearn.combine import SMOTETomek\n",
    "smote_tomek = SMOTETomek(sampling_strategy='auto', random_state=42)\n",
    "\n",
    "# Apply SMOTETomek to the training data\n",
    "X_resampled, y_resampled = smote_tomek.fit_resample(X_train, y_train)\n",
    "\n",
    "# Check the class distribution after SMOTETomek\n",
    "print(f\"Original class distribution: {Counter(y_train)}\")\n",
    "print(f\"Resampled class distribution: {Counter(y_resampled)}\")"
   ]
  },
  {
   "cell_type": "markdown",
   "id": "20428f1d-705d-4faf-9328-962d63d08d80",
   "metadata": {},
   "source": [
    "The reduction in instances happens only in the majority class where Tomek Links identifies borderline pairs. However, this reduction tends to be small because Tomek Links is conservative—it only removes majority class instances that are very close to minority class instances (i.e., on the decision boundary).\n",
    "\n",
    "As Tomek Links primarily focuses on cleaning up class overlap, it does not aggressively reduce the majority class size; its goal is to improve the class separation rather than drastically undersample the majority class.\n",
    "\n",
    "***If you need a substantial reduction in the majority class size, other techniques like Random Undersampling or Cluster Centroids may be more appropriate***\n",
    "\n",
    "Plus, If there is no change in class distribution between using SMOTETomek and SMOTE alone, it suggests that Tomek Links is not identifying any borderline samples between the majority and minority classes to remove.\n",
    "the classes are already well-separated in feature space (i.e., there's little to no overlap between the majority and minority classes), then Tomek Links won’t find any pairs to remove. In this case, SMOTETomek behaves just like SMOTE because Tomek Links doesn't perform any undersampling.\n"
   ]
  },
  {
   "cell_type": "code",
   "execution_count": 179,
   "id": "65fb8efd-2f20-4bdd-9758-5e1b7f0d78cb",
   "metadata": {},
   "outputs": [
    {
     "name": "stdout",
     "output_type": "stream",
     "text": [
      "Cross Validation Recall Scores are: [0.85454545 0.78378378 0.77272727]\n",
      "Average Cross Validation Recall score: 0.8036855036855037\n"
     ]
    }
   ],
   "source": [
    "from imblearn.pipeline import make_pipeline  # Use imblearn's make_pipeline\n",
    "from imblearn.combine import SMOTETomek\n",
    "from sklearn.ensemble import RandomForestClassifier\n",
    "from sklearn.model_selection import cross_val_score, StratifiedKFold\n",
    "\n",
    "# Step 1: Define SMOTETomek and RandomForestClassifier in the pipeline\n",
    "SMOTETomek_pipeline = make_pipeline(SMOTETomek(sampling_strategy='auto'),  # Automatically handle TomekLinks\n",
    "                                    RandomForestClassifier(n_estimators=100, random_state=13))\n",
    "\n",
    "# Step 2: Use StratifiedKFold for cross-validation\n",
    "kf = StratifiedKFold(n_splits=3, shuffle=False)\n",
    "\n",
    "# Step 3: Perform cross-validation with recall as the scoring metric\n",
    "score = cross_val_score(SMOTETomek_pipeline, X_train, y_train, scoring='recall', cv=kf)\n",
    "\n",
    "# Step 4: Print the cross-validation results\n",
    "print(\"Cross Validation Recall Scores are: {}\".format(score))\n",
    "print(\"Average Cross Validation Recall score: {}\".format(score.mean()))\n"
   ]
  },
  {
   "cell_type": "code",
   "execution_count": 180,
   "id": "2422c9ff-b300-4c65-b4d4-24c1fa5d7f91",
   "metadata": {},
   "outputs": [
    {
     "name": "stdout",
     "output_type": "stream",
     "text": [
      "[[84530   446]\n",
      " [   22   120]]\n"
     ]
    },
    {
     "data": {
      "text/html": [
       "<div>\n",
       "<style scoped>\n",
       "    .dataframe tbody tr th:only-of-type {\n",
       "        vertical-align: middle;\n",
       "    }\n",
       "\n",
       "    .dataframe tbody tr th {\n",
       "        vertical-align: top;\n",
       "    }\n",
       "\n",
       "    .dataframe thead th {\n",
       "        text-align: right;\n",
       "    }\n",
       "</style>\n",
       "<table border=\"1\" class=\"dataframe\">\n",
       "  <thead>\n",
       "    <tr style=\"text-align: right;\">\n",
       "      <th></th>\n",
       "      <th>Random Forest with</th>\n",
       "      <th>Recall</th>\n",
       "      <th>Precision</th>\n",
       "      <th>F2 Score</th>\n",
       "      <th>Accuracy</th>\n",
       "    </tr>\n",
       "  </thead>\n",
       "  <tbody>\n",
       "    <tr>\n",
       "      <th>0</th>\n",
       "      <td>SMOTE + Tomek</td>\n",
       "      <td>0.84507</td>\n",
       "      <td>0.212014</td>\n",
       "      <td>0.529101</td>\n",
       "      <td>0.994502</td>\n",
       "    </tr>\n",
       "  </tbody>\n",
       "</table>\n",
       "</div>"
      ],
      "text/plain": [
       "  Random Forest with   Recall  Precision  F2 Score  Accuracy\n",
       "0      SMOTE + Tomek  0.84507   0.212014  0.529101  0.994502"
      ]
     },
     "execution_count": 180,
     "metadata": {},
     "output_type": "execute_result"
    }
   ],
   "source": [
    "new_params = {'randomforestclassifier__' + key: params[key] for key in params} \n",
    "SMOTETomek_rf = GridSearchCV(SMOTETomek_pipeline, param_grid=new_params, cv=kf, scoring='recall', return_train_score=True) \n",
    "SMOTETomek_rf.fit(X_train, y_train)\n",
    "\n",
    "y_pred = SMOTETomek_rf.predict(X_test)\n",
    "cm = confusion_matrix(y_test, y_pred)\n",
    "\n",
    "SMOTETomek_rf_Recall = recall_score(y_test, y_pred)\n",
    "SMOTETomek_rf_Precision = precision_score(y_test, y_pred)\n",
    "SMOTETomek_rf_f2 = fbeta_score(y_test, y_pred, beta=2, average='binary')\n",
    "SMOTETomek_rf_accuracy = accuracy_score(y_test, y_pred)\n",
    "\n",
    "print(cm)\n",
    "\n",
    "ndf = [(SMOTETomek_rf_Recall, SMOTETomek_rf_Precision, SMOTETomek_rf_f2, SMOTETomek_rf_accuracy)]\n",
    "\n",
    "SMOTETomek_rf_score = pd.DataFrame(data = ndf, columns=['Recall','Precision','F2 Score', 'Accuracy'])\n",
    "SMOTETomek_rf_score.insert(0, 'Random Forest with', 'SMOTE + Tomek')\n",
    "SMOTETomek_rf_score"
   ]
  },
  {
   "cell_type": "code",
   "execution_count": 181,
   "id": "116f9625-234d-4daf-bcaa-b1b8e727ffc5",
   "metadata": {},
   "outputs": [
    {
     "data": {
      "image/png": "[encoded data removed]",
      "text/plain": [
       "<Figure size 800x600 with 1 Axes>"
      ]
     },
     "metadata": {},
     "output_type": "display_data"
    }
   ],
   "source": [
    "### PR Curve\n",
    "y_probs = SMOTETomek_rf.predict_proba(X_test)[:, 1]\n",
    "\n",
    "# Step 2: Calculate precision and recall\n",
    "precision, recall, thresholds = precision_recall_curve(y_test, y_probs)\n",
    "\n",
    "# Step 3: Calculate the average precision score\n",
    "average_precision = average_precision_score(y_test, y_probs)\n",
    "\n",
    "# Step 4: Plot the Precision-Recall curve\n",
    "plt.figure(figsize=(8, 6))\n",
    "plt.plot(recall, precision, label=f'PR curve (AP = {average_precision:.2f})')\n",
    "plt.xlabel('Recall')\n",
    "plt.ylabel('Precision')\n",
    "plt.title('Precision-Recall Curve')\n",
    "plt.legend(loc='best')\n",
    "plt.grid(True)\n",
    "plt.show()"
   ]
  },
  {
   "cell_type": "markdown",
   "id": "8a83e3bc-6340-4fd6-b1e0-b27f1eada53a",
   "metadata": {},
   "source": [
    "### SMOTE & Customized Undersampling"
   ]
  },
  {
   "cell_type": "code",
   "execution_count": 161,
   "id": "151180f1-5c21-4844-ab81-c2d53c04595e",
   "metadata": {},
   "outputs": [
    {
     "name": "stdout",
     "output_type": "stream",
     "text": [
      "Cross Validation Recall Scores are: [0.87272727 0.85585586 0.82727273]\n",
      "Average Cross Validation Recall score: 0.851951951951952\n"
     ]
    }
   ],
   "source": [
    "from imblearn.pipeline import Pipeline\n",
    "from imblearn.over_sampling import SMOTE\n",
    "from imblearn.under_sampling import RandomUnderSampler\n",
    "from sklearn.ensemble import RandomForestClassifier\n",
    "from sklearn.model_selection import cross_val_score, StratifiedKFold\n",
    "\n",
    "# Step 1: Define SMOTE and UnderSampler in the imblearn pipeline\n",
    "UnderSample_pipeline = Pipeline([\n",
    "    ('smote', SMOTE(sampling_strategy='auto', random_state=42)),  # SMOTE to oversample the minority class\n",
    "    ('undersample', RandomUnderSampler(sampling_strategy={0:5000, 1:5000}, random_state=42)),  # RandomUnderSampler to undersample the majority class\n",
    "    ('rf', RandomForestClassifier(random_state=13))  # RandomForestClassifier for model training\n",
    "])\n",
    "\n",
    "# Step 2: Use StratifiedKFold for cross-validation\n",
    "kf = StratifiedKFold(n_splits=3, shuffle=False)\n",
    "\n",
    "# Step 3: Perform cross-validation with recall as the scoring metric\n",
    "score1 = cross_val_score(UnderSample_pipeline, X_train, y_train, scoring='recall', cv=kf)\n",
    "\n",
    "# Step 4: Print the cross-validation results\n",
    "print(\"Cross Validation Recall Scores are: {}\".format(score1))\n",
    "print(\"Average Cross Validation Recall score: {}\".format(score1.mean()))"
   ]
  },
  {
   "cell_type": "code",
   "execution_count": 162,
   "id": "acbe4491-cd57-4e50-8248-d56e7d763571",
   "metadata": {},
   "outputs": [
    {
     "name": "stdout",
     "output_type": "stream",
     "text": [
      "Class distribution after SMOTE and Random Undersampling: Counter({0: 5000, 1: 5000})\n"
     ]
    }
   ],
   "source": [
    "# Step 4: Apply SMOTE and RandomUnderSampler without fitting the model yet\n",
    "# You need to extract the data at this point to check class distribution\n",
    "X_train_resampled, y_train_resampled = UnderSample_pipeline.named_steps['smote'].fit_resample(X_train, y_train)\n",
    "X_train_resampled, y_train_resampled = UnderSample_pipeline.named_steps['undersample'].fit_resample(X_train_resampled, y_train_resampled)\n",
    "\n",
    "# Step 5: Check class distribution after SMOTE and Random Undersampling\n",
    "print(f\"Class distribution after SMOTE and Random Undersampling: {Counter(y_train_resampled)}\")"
   ]
  },
  {
   "cell_type": "code",
   "execution_count": 165,
   "id": "81058451-a857-49e2-9c2e-9f611aea0b43",
   "metadata": {},
   "outputs": [
    {
     "name": "stdout",
     "output_type": "stream",
     "text": [
      "[[84460   516]\n",
      " [   22   120]]\n"
     ]
    },
    {
     "data": {
      "text/html": [
       "<div>\n",
       "<style scoped>\n",
       "    .dataframe tbody tr th:only-of-type {\n",
       "        vertical-align: middle;\n",
       "    }\n",
       "\n",
       "    .dataframe tbody tr th {\n",
       "        vertical-align: top;\n",
       "    }\n",
       "\n",
       "    .dataframe thead th {\n",
       "        text-align: right;\n",
       "    }\n",
       "</style>\n",
       "<table border=\"1\" class=\"dataframe\">\n",
       "  <thead>\n",
       "    <tr style=\"text-align: right;\">\n",
       "      <th></th>\n",
       "      <th>Random Forest with</th>\n",
       "      <th>Recall</th>\n",
       "      <th>Precision</th>\n",
       "      <th>F2 Score</th>\n",
       "      <th>Accuracy</th>\n",
       "    </tr>\n",
       "  </thead>\n",
       "  <tbody>\n",
       "    <tr>\n",
       "      <th>0</th>\n",
       "      <td>SMOTE + RandomUnderSampler</td>\n",
       "      <td>0.84507</td>\n",
       "      <td>0.188679</td>\n",
       "      <td>0.498339</td>\n",
       "      <td>0.993679</td>\n",
       "    </tr>\n",
       "  </tbody>\n",
       "</table>\n",
       "</div>"
      ],
      "text/plain": [
       "           Random Forest with   Recall  Precision  F2 Score  Accuracy\n",
       "0  SMOTE + RandomUnderSampler  0.84507   0.188679  0.498339  0.993679"
      ]
     },
     "execution_count": 165,
     "metadata": {},
     "output_type": "execute_result"
    }
   ],
   "source": [
    "params = {\n",
    "    'n_estimators': [50, 100],\n",
    "    'max_depth': [4, 12],\n",
    "    'random_state': [13]\n",
    "}\n",
    "\n",
    "new_params = {'rf__' + key: params[key] for key in params}\n",
    "SMOTE_under_rf = GridSearchCV(UnderSample_pipeline, param_grid=new_params, cv=kf, scoring='recall', return_train_score=True)\n",
    "SMOTE_under_rf.fit(X_train, y_train)\n",
    "\n",
    "y_pred = SMOTE_under_rf.predict(X_test)\n",
    "cm = confusion_matrix(y_test, y_pred)\n",
    "\n",
    "SMOTE_under_rf_Recall = recall_score(y_test, y_pred)\n",
    "SMOTE_under_rf_Precision = precision_score(y_test, y_pred)\n",
    "SMOTE_under_rf_f2 = fbeta_score(y_test, y_pred, beta=2, average='binary')\n",
    "SMOTE_under_rf_accuracy = accuracy_score(y_test, y_pred)\n",
    "\n",
    "print(cm)\n",
    "\n",
    "ndf = [(SMOTE_under_rf_Recall, SMOTE_under_rf_Precision, SMOTE_under_rf_f2, SMOTE_under_rf_accuracy)]\n",
    "\n",
    "SMOTETomek_rf_score = pd.DataFrame(data = ndf, columns=['Recall','Precision','F2 Score', 'Accuracy'])\n",
    "SMOTETomek_rf_score.insert(0, 'Random Forest with', 'SMOTE + RandomUnderSampler')\n",
    "SMOTETomek_rf_score"
   ]
  },
  {
   "cell_type": "code",
   "execution_count": 170,
   "id": "a913653b-25ce-4b02-9a51-6b6e8c1f815f",
   "metadata": {},
   "outputs": [
    {
     "data": {
      "image/png": "[encoded data removed]",
      "text/plain": [
       "<Figure size 640x480 with 1 Axes>"
      ]
     },
     "metadata": {},
     "output_type": "display_data"
    },
    {
     "name": "stdout",
     "output_type": "stream",
     "text": [
      "           Random Forest with   Recall  Precision  F2 Score  Accuracy\n",
      "0  SMOTE + RandomUnderSampler  0.84507   0.188679  0.498339  0.993679\n"
     ]
    }
   ],
   "source": [
    "### PR CURVE (Precision, Recall)\n",
    "from sklearn.metrics import precision_recall_curve, average_precision_score, auc\n",
    "import matplotlib.pyplot as plt\n",
    "\n",
    "y_pred_proba = SMOTE_under_rf.predict_proba(X_test)[:, 1]  # Get the probability of the positive class\n",
    "\n",
    "# Step 6: Calculate Precision-Recall Curve and AUC\n",
    "precision, recall, _ = precision_recall_curve(y_test, y_pred_proba)\n",
    "pr_auc = auc(recall, precision)\n",
    "\n",
    "# Step 7: Plot the Precision-Recall Curve\n",
    "plt.figure()\n",
    "plt.plot(recall, precision, label=f'PR curve (area = {pr_auc:.2f})')\n",
    "plt.xlabel('Recall')\n",
    "plt.ylabel('Precision')\n",
    "plt.title('Precision-Recall Curve')\n",
    "plt.legend(loc='best')\n",
    "plt.show()\n",
    "\n",
    "# Step 8: Display evaluation scores in a DataFrame\n",
    "ndf = [(SMOTE_under_rf_Recall, SMOTE_under_rf_Precision, SMOTE_under_rf_f2, SMOTE_under_rf_accuracy)]\n",
    "SMOTETomek_rf_score = pd.DataFrame(data=ndf, columns=['Recall','Precision','F2 Score', 'Accuracy'])\n",
    "SMOTETomek_rf_score.insert(0, 'Random Forest with', 'SMOTE + RandomUnderSampler')\n",
    "print(SMOTETomek_rf_score)"
   ]
  },
  {
   "cell_type": "markdown",
   "id": "f7d97200-d0ff-40f8-922a-3c6a9187ebfd",
   "metadata": {},
   "source": [
    "#### SMOTE & CondensedNearestNeighbour (CNN)"
   ]
  },
  {
   "cell_type": "code",
   "execution_count": null,
   "id": "1c866176-d5a3-48b6-9802-d1c49425d69a",
   "metadata": {},
   "outputs": [],
   "source": [
    "from imblearn.under_sampling import CondensedNearestNeighbour\n",
    "from sklearn.model_selection import cross_val_score, StratifiedKFold, GridSearchCV\n",
    "from sklearn.metrics import confusion_matrix, recall_score, precision_score, fbeta_score, accuracy_score\n",
    "\n",
    "# Step 1: Define SMOTE and CondensedNearestNeighbour in the imblearn pipeline\n",
    "SMOTE_CNN_pipeline = Pipeline([\n",
    "    ('smote', SMOTE(sampling_strategy='auto', random_state=42)),  # SMOTE to oversample the minority class\n",
    "    ('cnn', CondensedNearestNeighbour(sampling_strategy='auto', random_state=42)),  # CNN to undersample the majority class\n",
    "    ('rf', RandomForestClassifier(random_state=13))  # RandomForestClassifier for model training\n",
    "])\n",
    "\n",
    "# Step 2: Use StratifiedKFold for cross-validation\n",
    "kf = StratifiedKFold(n_splits=3, shuffle=False)\n",
    "\n",
    "# Step 3: Perform cross-validation with recall as the scoring metric\n",
    "score1 = cross_val_score(SMOTE_CNN_pipeline, X_train, y_train, scoring='recall', cv=kf)\n",
    "\n",
    "# Step 4: Print the cross-validation results\n",
    "print(\"Cross Validation Recall Scores are: {}\".format(score1))\n",
    "print(\"Average Cross Validation Recall score: {}\".format(score1.mean()))"
   ]
  },
  {
   "cell_type": "code",
   "execution_count": null,
   "id": "bcfa10e2-1717-45af-9f98-9f435e916619",
   "metadata": {},
   "outputs": [],
   "source": [
    "# Step 5: Define hyperparameters for Random Forest and perform GridSearchCV\n",
    "params = {\n",
    "    'n_estimators': [50, 100],\n",
    "    'max_depth': [4, 12],\n",
    "    'random_state': [13]\n",
    "}\n",
    "\n",
    "new_params = {'rf__' + key: params[key] for key in params}\n",
    "SMOTE_CNN_rf = GridSearchCV(SMOTE_CNN_pipeline, param_grid=new_params, cv=kf, scoring='recall', return_train_score=True)\n",
    "SMOTE_CNN_rf.fit(X_train, y_train)\n",
    "\n",
    "# Step 6: Make predictions and evaluate the model on the test set\n",
    "y_pred = SMOTE_CNN_rf.predict(X_test)\n",
    "cm = confusion_matrix(y_test, y_pred)\n",
    "\n",
    "SMOTE_CNN_rf_Recall = recall_score(y_test, y_pred)\n",
    "SMOTE_CNN_rf_Precision = precision_score(y_test, y_pred)\n",
    "SMOTE_CNN_rf_f2 = fbeta_score(y_test, y_pred, beta=2, average='binary')\n",
    "SMOTE_CNN_rf_accuracy = accuracy_score(y_test, y_pred)\n",
    "\n",
    "print(cm)\n",
    "\n",
    "ndf = [(SMOTE_CNN_rf_Recall, SMOTE_CNN_rf_Precision, SMOTE_CNN_rf_f2, SMOTE_CNN_rf_accuracy)]\n",
    "\n",
    "# Create a DataFrame to store and display the scores\n",
    "SMOTE_CNN_rf_score = pd.DataFrame(data = ndf, columns=['Recall','Precision','F2 Score', 'Accuracy'])\n",
    "SMOTE_CNN_rf_score.insert(0, 'Random Forest with', 'SMOTE + CNN')\n",
    "print(SMOTE_CNN_rf_score)"
   ]
  },
  {
   "cell_type": "code",
   "execution_count": null,
   "id": "0dd975e6-5896-4ea7-94f2-bb354c76c97c",
   "metadata": {},
   "outputs": [],
   "source": [
    "y_probs = SMOTE_CNN_rf.predict_proba(X_test)[:, 1]\n",
    "\n",
    "# Step 2: Calculate precision and recall\n",
    "precision, recall, thresholds = precision_recall_curve(y_test, y_probs)\n",
    "\n",
    "# Step 3: Calculate the average precision score\n",
    "average_precision = average_precision_score(y_test, y_probs)\n",
    "\n",
    "# Step 4: Plot the Precision-Recall curve\n",
    "plt.figure(figsize=(8, 6))\n",
    "plt.plot(recall, precision, label=f'PR curve (AP = {average_precision:.2f})')\n",
    "plt.xlabel('Recall')\n",
    "plt.ylabel('Precision')\n",
    "plt.title('Precision-Recall Curve - SMOTE + CNN')\n",
    "plt.legend(loc='best')\n",
    "plt.grid(True)\n",
    "plt.show()\n"
   ]
  },
  {
   "cell_type": "markdown",
   "id": "c23490da-6c5c-43e9-8e93-76e42f9dc99b",
   "metadata": {},
   "source": [
    "### Conclusion\n",
    "When dealing with an extremely imbalanced dataset, such as the one you described (99.83% genuine and 0.17% fraud), the performance metrics, particularly those related to Precision-Recall (PR) curves, can behave in counterintuitive ways. ***Here's why the model without any sampling techniques might have a higher Average Precision (AP) score:***"
   ]
  },
  {
   "cell_type": "markdown",
   "id": "d69cbd24-7a65-41ce-8e5e-ccbd75d54987",
   "metadata": {},
   "source": [
    "1. Class Imbalance and Precision:\n",
    "Precision is defined as the proportion of true positive predictions among all positive predictions (i.e., \n",
    "Precision = TP/(TP+FP)\n",
    "In an extremely imbalanced dataset, the model can achieve a high precision score by simply predicting the majority class (genuine) for most instances. Since fraud cases are rare, there are fewer opportunities to make false positive errors (predicting fraud when it is genuine), leading to artificially high precision.\n",
    "\n",
    "3. Average Precision (AP) and Skewed Predictions:\n",
    "Average Precision (AP) is the area under the Precision-Recall curve. In a highly imbalanced dataset, the model without sampling techniques might \"learn\" that predicting the majority class most of the time is the optimal strategy, which leads to a high precision score but often at the cost of low recall (missing many actual fraud cases).\n",
    "This high precision can inflate the AP score, even if the model is not good at detecting the minority class (fraud).\n",
    "\n",
    "4. Effect of Sampling Techniques:\n",
    "SMOTE + Tomek Links and SMOTE + Random Undersampling: These techniques aim to balance the dataset by either oversampling the minority class or undersampling the majority class. While this can improve the model's ability to detect the minority class (fraud), it often results in a trade-off between precision and recall.\n",
    "Precision Trade-off: By increasing the number of positive (fraud) predictions, the model is more likely to identify fraud cases (improving recall). However, this also increases the chances of false positives (predicting fraud when it's actually genuine), which can lower precision and, consequently, the AP score."
   ]
  },
  {
   "cell_type": "markdown",
   "id": "f8b4d04e-1212-468c-9ab9-a78619bd3b87",
   "metadata": {},
   "source": [
    "In summary, the high AP score in the unsampled model doesn't necessarily mean it is better at identifying fraud; it just means it makes fewer incorrect positive predictions, which is a direct result of the extreme class imbalance. The models with sampling techniques might be better in terms of detecting fraud (higher recall) but show a lower AP due to a higher rate of false positives."
   ]
  },
  {
   "cell_type": "code",
   "execution_count": null,
   "id": "f00de5b6-0b27-4c5d-9590-4f29b6829c2b",
   "metadata": {},
   "outputs": [],
   "source": []
  }
 ],
 "metadata": {
  "kernelspec": {
   "display_name": "Python 3 (ipykernel)",
   "language": "python",
   "name": "python3"
  },
  "language_info": {
   "codemirror_mode": {
    "name": "ipython",
    "version": 3
   },
   "file_extension": ".py",
   "mimetype": "text/x-python",
   "name": "python",
   "nbconvert_exporter": "python",
   "pygments_lexer": "ipython3",
   "version": "3.12.4"
  }
 },
 "nbformat": 4,
 "nbformat_minor": 5
}
