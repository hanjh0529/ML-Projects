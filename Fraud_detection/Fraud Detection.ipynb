{
 "cells": [
  {
   "cell_type": "code",
   "execution_count": 43,
   "id": "ed543575",
   "metadata": {},
   "outputs": [],
   "source": [
    "import pandas as pd\n",
    "import numpy as np\n",
    "import matplotlib.pyplot as plt\n",
    "import seaborn as sns\n",
    "from sklearn.model_selection import train_test_split, GridSearchCV, cross_val_score, ParameterGrid, RepeatedKFold, StratifiedKFold, RepeatedStratifiedKFold, StratifiedKFold\n",
    "from iterstrat.ml_stratifiers import RepeatedMultilabelStratifiedKFold\n",
    "# pip install iterative-stratification\n",
    "from sklearn.feature_selection import RFECV, VarianceThreshold, SelectFromModel\n",
    "from sklearn.metrics import classification_report, confusion_matrix, roc_curve, roc_auc_score, mean_squared_error, f1_score\n",
    "from sklearn.preprocessing import MinMaxScaler, StandardScaler, RobustScaler, LabelBinarizer, label_binarize\n",
    "from sklearn.pipeline import Pipeline\n",
    "from imblearn.over_sampling import SMOTE\n",
    "from imblearn.pipeline import Pipeline as Pipeline_imb\n",
    "from sklearn.multiclass import OneVsRestClassifier\n",
    "from sklearn.decomposition import PCA, KernelPCA\n",
    "from sklearn.manifold import TSNE\n",
    "from sklearn.neighbors import KNeighborsClassifier\n",
    "from sklearn.linear_model import LogisticRegression, LogisticRegressionCV, LinearRegression, Ridge, Lasso\n",
    "from sklearn.ensemble import RandomForestClassifier, GradientBoostingClassifier, RandomForestRegressor, GradientBoostingRegressor\n",
    "from sklearn.svm import LinearSVC, SVC, SVR\n",
    "from sklearn.neural_network import MLPClassifier, MLPRegressor"
   ]
  },
  {
   "cell_type": "code",
   "execution_count": 2,
   "id": "7f3e3455",
   "metadata": {},
   "outputs": [
    {
     "data": {
      "text/plain": [
       "'C:\\\\Users\\\\hanjh\\\\Desktop\\\\Kaggle project\\\\Fraud_Detection'"
      ]
     },
     "execution_count": 2,
     "metadata": {},
     "output_type": "execute_result"
    }
   ],
   "source": [
    "import os\n",
    "os.getcwd()"
   ]
  },
  {
   "cell_type": "code",
   "execution_count": 3,
   "id": "c75eb6a9",
   "metadata": {},
   "outputs": [],
   "source": [
    "fraud_df = pd.read_csv('Fraud_Detection.csv')"
   ]
  },
  {
   "cell_type": "markdown",
   "id": "7c5c0ccd",
   "metadata": {},
   "source": [
    "### The below column reference:\n",
    "\n",
    "- **step**: represents a unit of time where 1 step equals 1 hour \n",
    "- **type**: type of online transaction \n",
    "- **amount**: the amount of the transaction \n",
    "- **nameOrig**: customer starting the transaction \n",
    "- **oldbalanceOrg**: balance before the transaction \n",
    "- **newbalanceOrig**: balance after the transaction \n",
    "- **nameDest**: recipient of the transaction \n",
    "- **oldbalanceDest**: initial balance of recipient before the transaction \n",
    "- **newbalanceDest**: the new balance of recipient after the transaction \n",
    "- **isFraud**: fraud transaction\n",
    "\n",
    "*Source*:  https://www.kaggle.com/datasets/rupakroy/online-payments-fraud-detection-dataset?datasetId=2093649"
   ]
  },
  {
   "cell_type": "code",
   "execution_count": 4,
   "id": "6f3834a6",
   "metadata": {},
   "outputs": [
    {
     "data": {
      "text/html": [
       "<div>\n",
       "<style scoped>\n",
       "    .dataframe tbody tr th:only-of-type {\n",
       "        vertical-align: middle;\n",
       "    }\n",
       "\n",
       "    .dataframe tbody tr th {\n",
       "        vertical-align: top;\n",
       "    }\n",
       "\n",
       "    .dataframe thead th {\n",
       "        text-align: right;\n",
       "    }\n",
       "</style>\n",
       "<table border=\"1\" class=\"dataframe\">\n",
       "  <thead>\n",
       "    <tr style=\"text-align: right;\">\n",
       "      <th></th>\n",
       "      <th>step</th>\n",
       "      <th>type</th>\n",
       "      <th>amount</th>\n",
       "      <th>nameOrig</th>\n",
       "      <th>oldbalanceOrg</th>\n",
       "      <th>newbalanceOrig</th>\n",
       "      <th>nameDest</th>\n",
       "      <th>oldbalanceDest</th>\n",
       "      <th>newbalanceDest</th>\n",
       "      <th>isFraud</th>\n",
       "      <th>isFlaggedFraud</th>\n",
       "    </tr>\n",
       "  </thead>\n",
       "  <tbody>\n",
       "    <tr>\n",
       "      <th>0</th>\n",
       "      <td>1</td>\n",
       "      <td>PAYMENT</td>\n",
       "      <td>9839.64</td>\n",
       "      <td>C1231006815</td>\n",
       "      <td>170136.0</td>\n",
       "      <td>160296.36</td>\n",
       "      <td>M1979787155</td>\n",
       "      <td>0.0</td>\n",
       "      <td>0.0</td>\n",
       "      <td>0</td>\n",
       "      <td>0</td>\n",
       "    </tr>\n",
       "    <tr>\n",
       "      <th>1</th>\n",
       "      <td>1</td>\n",
       "      <td>PAYMENT</td>\n",
       "      <td>1864.28</td>\n",
       "      <td>C1666544295</td>\n",
       "      <td>21249.0</td>\n",
       "      <td>19384.72</td>\n",
       "      <td>M2044282225</td>\n",
       "      <td>0.0</td>\n",
       "      <td>0.0</td>\n",
       "      <td>0</td>\n",
       "      <td>0</td>\n",
       "    </tr>\n",
       "    <tr>\n",
       "      <th>2</th>\n",
       "      <td>1</td>\n",
       "      <td>TRANSFER</td>\n",
       "      <td>181.00</td>\n",
       "      <td>C1305486145</td>\n",
       "      <td>181.0</td>\n",
       "      <td>0.00</td>\n",
       "      <td>C553264065</td>\n",
       "      <td>0.0</td>\n",
       "      <td>0.0</td>\n",
       "      <td>1</td>\n",
       "      <td>0</td>\n",
       "    </tr>\n",
       "    <tr>\n",
       "      <th>3</th>\n",
       "      <td>1</td>\n",
       "      <td>CASH_OUT</td>\n",
       "      <td>181.00</td>\n",
       "      <td>C840083671</td>\n",
       "      <td>181.0</td>\n",
       "      <td>0.00</td>\n",
       "      <td>C38997010</td>\n",
       "      <td>21182.0</td>\n",
       "      <td>0.0</td>\n",
       "      <td>1</td>\n",
       "      <td>0</td>\n",
       "    </tr>\n",
       "    <tr>\n",
       "      <th>4</th>\n",
       "      <td>1</td>\n",
       "      <td>PAYMENT</td>\n",
       "      <td>11668.14</td>\n",
       "      <td>C2048537720</td>\n",
       "      <td>41554.0</td>\n",
       "      <td>29885.86</td>\n",
       "      <td>M1230701703</td>\n",
       "      <td>0.0</td>\n",
       "      <td>0.0</td>\n",
       "      <td>0</td>\n",
       "      <td>0</td>\n",
       "    </tr>\n",
       "  </tbody>\n",
       "</table>\n",
       "</div>"
      ],
      "text/plain": [
       "   step      type    amount     nameOrig  oldbalanceOrg  newbalanceOrig  \\\n",
       "0     1   PAYMENT   9839.64  C1231006815       170136.0       160296.36   \n",
       "1     1   PAYMENT   1864.28  C1666544295        21249.0        19384.72   \n",
       "2     1  TRANSFER    181.00  C1305486145          181.0            0.00   \n",
       "3     1  CASH_OUT    181.00   C840083671          181.0            0.00   \n",
       "4     1   PAYMENT  11668.14  C2048537720        41554.0        29885.86   \n",
       "\n",
       "      nameDest  oldbalanceDest  newbalanceDest  isFraud  isFlaggedFraud  \n",
       "0  M1979787155             0.0             0.0        0               0  \n",
       "1  M2044282225             0.0             0.0        0               0  \n",
       "2   C553264065             0.0             0.0        1               0  \n",
       "3    C38997010         21182.0             0.0        1               0  \n",
       "4  M1230701703             0.0             0.0        0               0  "
      ]
     },
     "execution_count": 4,
     "metadata": {},
     "output_type": "execute_result"
    }
   ],
   "source": [
    "fraud_df.head()"
   ]
  },
  {
   "cell_type": "code",
   "execution_count": 5,
   "id": "1728a35f",
   "metadata": {
    "scrolled": true
   },
   "outputs": [],
   "source": [
    "fraud_df.drop(['step','nameOrig', 'nameDest','isFlaggedFraud'], axis=1, inplace=True) # drop uninformative variables"
   ]
  },
  {
   "cell_type": "code",
   "execution_count": 6,
   "id": "5e3a0d3c",
   "metadata": {},
   "outputs": [
    {
     "data": {
      "text/html": [
       "<div>\n",
       "<style scoped>\n",
       "    .dataframe tbody tr th:only-of-type {\n",
       "        vertical-align: middle;\n",
       "    }\n",
       "\n",
       "    .dataframe tbody tr th {\n",
       "        vertical-align: top;\n",
       "    }\n",
       "\n",
       "    .dataframe thead th {\n",
       "        text-align: right;\n",
       "    }\n",
       "</style>\n",
       "<table border=\"1\" class=\"dataframe\">\n",
       "  <thead>\n",
       "    <tr style=\"text-align: right;\">\n",
       "      <th></th>\n",
       "      <th>amount</th>\n",
       "      <th>oldbalanceOrg</th>\n",
       "      <th>newbalanceOrig</th>\n",
       "      <th>oldbalanceDest</th>\n",
       "      <th>newbalanceDest</th>\n",
       "      <th>isFraud</th>\n",
       "    </tr>\n",
       "  </thead>\n",
       "  <tbody>\n",
       "    <tr>\n",
       "      <th>count</th>\n",
       "      <td>6362620.0</td>\n",
       "      <td>6362620.0</td>\n",
       "      <td>6362620.0</td>\n",
       "      <td>6362620.0</td>\n",
       "      <td>6362620.0</td>\n",
       "      <td>6362620.0</td>\n",
       "    </tr>\n",
       "    <tr>\n",
       "      <th>mean</th>\n",
       "      <td>179862.0</td>\n",
       "      <td>833883.0</td>\n",
       "      <td>855114.0</td>\n",
       "      <td>1100702.0</td>\n",
       "      <td>1224996.0</td>\n",
       "      <td>0.0</td>\n",
       "    </tr>\n",
       "    <tr>\n",
       "      <th>std</th>\n",
       "      <td>603858.0</td>\n",
       "      <td>2888243.0</td>\n",
       "      <td>2924049.0</td>\n",
       "      <td>3399180.0</td>\n",
       "      <td>3674129.0</td>\n",
       "      <td>0.0</td>\n",
       "    </tr>\n",
       "    <tr>\n",
       "      <th>min</th>\n",
       "      <td>0.0</td>\n",
       "      <td>0.0</td>\n",
       "      <td>0.0</td>\n",
       "      <td>0.0</td>\n",
       "      <td>0.0</td>\n",
       "      <td>0.0</td>\n",
       "    </tr>\n",
       "    <tr>\n",
       "      <th>25%</th>\n",
       "      <td>13390.0</td>\n",
       "      <td>0.0</td>\n",
       "      <td>0.0</td>\n",
       "      <td>0.0</td>\n",
       "      <td>0.0</td>\n",
       "      <td>0.0</td>\n",
       "    </tr>\n",
       "    <tr>\n",
       "      <th>50%</th>\n",
       "      <td>74872.0</td>\n",
       "      <td>14208.0</td>\n",
       "      <td>0.0</td>\n",
       "      <td>132706.0</td>\n",
       "      <td>214661.0</td>\n",
       "      <td>0.0</td>\n",
       "    </tr>\n",
       "    <tr>\n",
       "      <th>75%</th>\n",
       "      <td>208721.0</td>\n",
       "      <td>107315.0</td>\n",
       "      <td>144258.0</td>\n",
       "      <td>943037.0</td>\n",
       "      <td>1111909.0</td>\n",
       "      <td>0.0</td>\n",
       "    </tr>\n",
       "    <tr>\n",
       "      <th>max</th>\n",
       "      <td>92445517.0</td>\n",
       "      <td>59585040.0</td>\n",
       "      <td>49585040.0</td>\n",
       "      <td>356015889.0</td>\n",
       "      <td>356179279.0</td>\n",
       "      <td>1.0</td>\n",
       "    </tr>\n",
       "  </tbody>\n",
       "</table>\n",
       "</div>"
      ],
      "text/plain": [
       "           amount  oldbalanceOrg  newbalanceOrig  oldbalanceDest  \\\n",
       "count   6362620.0      6362620.0       6362620.0       6362620.0   \n",
       "mean     179862.0       833883.0        855114.0       1100702.0   \n",
       "std      603858.0      2888243.0       2924049.0       3399180.0   \n",
       "min           0.0            0.0             0.0             0.0   \n",
       "25%       13390.0            0.0             0.0             0.0   \n",
       "50%       74872.0        14208.0             0.0        132706.0   \n",
       "75%      208721.0       107315.0        144258.0        943037.0   \n",
       "max    92445517.0     59585040.0      49585040.0     356015889.0   \n",
       "\n",
       "       newbalanceDest    isFraud  \n",
       "count       6362620.0  6362620.0  \n",
       "mean        1224996.0        0.0  \n",
       "std         3674129.0        0.0  \n",
       "min               0.0        0.0  \n",
       "25%               0.0        0.0  \n",
       "50%          214661.0        0.0  \n",
       "75%         1111909.0        0.0  \n",
       "max       356179279.0        1.0  "
      ]
     },
     "execution_count": 6,
     "metadata": {},
     "output_type": "execute_result"
    }
   ],
   "source": [
    "fraud_df.describe().round()"
   ]
  },
  {
   "cell_type": "code",
   "execution_count": 7,
   "id": "ae8b1b7b",
   "metadata": {
    "scrolled": true
   },
   "outputs": [
    {
     "data": {
      "text/plain": [
       "type              0\n",
       "amount            0\n",
       "oldbalanceOrg     0\n",
       "newbalanceOrig    0\n",
       "oldbalanceDest    0\n",
       "newbalanceDest    0\n",
       "isFraud           0\n",
       "dtype: int64"
      ]
     },
     "execution_count": 7,
     "metadata": {},
     "output_type": "execute_result"
    }
   ],
   "source": [
    "fraud_df.isnull().sum() # Check number of null values per cols"
   ]
  },
  {
   "cell_type": "code",
   "execution_count": 8,
   "id": "ee95f73a",
   "metadata": {
    "scrolled": true
   },
   "outputs": [
    {
     "data": {
      "image/png": "[encoded data removed]",
      "text/plain": [
       "<Figure size 432x432 with 1 Axes>"
      ]
     },
     "metadata": {},
     "output_type": "display_data"
    }
   ],
   "source": [
    "# Check distribution of outcome variables (Imbalanced outcome)\n",
    "fraud_counts = fraud_df['isFraud'].value_counts()\n",
    "plt.figure(figsize=(6, 6))\n",
    "plt.pie(fraud_counts, labels=fraud_counts.index, autopct='%1.1f%%', colors=['green', 'red'])\n",
    "plt.title('Fraud Distribution')\n",
    "plt.show() "
   ]
  },
  {
   "cell_type": "code",
   "execution_count": 9,
   "id": "90d2acdb",
   "metadata": {},
   "outputs": [
    {
     "data": {
      "text/plain": [
       "0    0.998709\n",
       "1    0.001291\n",
       "Name: isFraud, dtype: float64"
      ]
     },
     "execution_count": 9,
     "metadata": {},
     "output_type": "execute_result"
    }
   ],
   "source": [
    "fraud_df['isFraud'].value_counts(normalize=True)"
   ]
  },
  {
   "cell_type": "code",
   "execution_count": 10,
   "id": "dc3452c8",
   "metadata": {},
   "outputs": [],
   "source": [
    "type_dummies = pd.get_dummies(fraud_df['type'],prefix='Type')"
   ]
  },
  {
   "cell_type": "code",
   "execution_count": 11,
   "id": "dac6c61b",
   "metadata": {},
   "outputs": [],
   "source": [
    "fraud_df = pd.concat([fraud_df,type_dummies],axis=1)"
   ]
  },
  {
   "cell_type": "code",
   "execution_count": 12,
   "id": "cf83db5d",
   "metadata": {},
   "outputs": [
    {
     "data": {
      "text/html": [
       "<div>\n",
       "<style scoped>\n",
       "    .dataframe tbody tr th:only-of-type {\n",
       "        vertical-align: middle;\n",
       "    }\n",
       "\n",
       "    .dataframe tbody tr th {\n",
       "        vertical-align: top;\n",
       "    }\n",
       "\n",
       "    .dataframe thead th {\n",
       "        text-align: right;\n",
       "    }\n",
       "</style>\n",
       "<table border=\"1\" class=\"dataframe\">\n",
       "  <thead>\n",
       "    <tr style=\"text-align: right;\">\n",
       "      <th></th>\n",
       "      <th>type</th>\n",
       "      <th>amount</th>\n",
       "      <th>oldbalanceOrg</th>\n",
       "      <th>newbalanceOrig</th>\n",
       "      <th>oldbalanceDest</th>\n",
       "      <th>newbalanceDest</th>\n",
       "      <th>isFraud</th>\n",
       "      <th>Type_CASH_IN</th>\n",
       "      <th>Type_CASH_OUT</th>\n",
       "      <th>Type_DEBIT</th>\n",
       "      <th>Type_PAYMENT</th>\n",
       "      <th>Type_TRANSFER</th>\n",
       "    </tr>\n",
       "  </thead>\n",
       "  <tbody>\n",
       "    <tr>\n",
       "      <th>0</th>\n",
       "      <td>PAYMENT</td>\n",
       "      <td>9839.64</td>\n",
       "      <td>170136.0</td>\n",
       "      <td>160296.36</td>\n",
       "      <td>0.0</td>\n",
       "      <td>0.0</td>\n",
       "      <td>0</td>\n",
       "      <td>0</td>\n",
       "      <td>0</td>\n",
       "      <td>0</td>\n",
       "      <td>1</td>\n",
       "      <td>0</td>\n",
       "    </tr>\n",
       "    <tr>\n",
       "      <th>1</th>\n",
       "      <td>PAYMENT</td>\n",
       "      <td>1864.28</td>\n",
       "      <td>21249.0</td>\n",
       "      <td>19384.72</td>\n",
       "      <td>0.0</td>\n",
       "      <td>0.0</td>\n",
       "      <td>0</td>\n",
       "      <td>0</td>\n",
       "      <td>0</td>\n",
       "      <td>0</td>\n",
       "      <td>1</td>\n",
       "      <td>0</td>\n",
       "    </tr>\n",
       "    <tr>\n",
       "      <th>2</th>\n",
       "      <td>TRANSFER</td>\n",
       "      <td>181.00</td>\n",
       "      <td>181.0</td>\n",
       "      <td>0.00</td>\n",
       "      <td>0.0</td>\n",
       "      <td>0.0</td>\n",
       "      <td>1</td>\n",
       "      <td>0</td>\n",
       "      <td>0</td>\n",
       "      <td>0</td>\n",
       "      <td>0</td>\n",
       "      <td>1</td>\n",
       "    </tr>\n",
       "    <tr>\n",
       "      <th>3</th>\n",
       "      <td>CASH_OUT</td>\n",
       "      <td>181.00</td>\n",
       "      <td>181.0</td>\n",
       "      <td>0.00</td>\n",
       "      <td>21182.0</td>\n",
       "      <td>0.0</td>\n",
       "      <td>1</td>\n",
       "      <td>0</td>\n",
       "      <td>1</td>\n",
       "      <td>0</td>\n",
       "      <td>0</td>\n",
       "      <td>0</td>\n",
       "    </tr>\n",
       "    <tr>\n",
       "      <th>4</th>\n",
       "      <td>PAYMENT</td>\n",
       "      <td>11668.14</td>\n",
       "      <td>41554.0</td>\n",
       "      <td>29885.86</td>\n",
       "      <td>0.0</td>\n",
       "      <td>0.0</td>\n",
       "      <td>0</td>\n",
       "      <td>0</td>\n",
       "      <td>0</td>\n",
       "      <td>0</td>\n",
       "      <td>1</td>\n",
       "      <td>0</td>\n",
       "    </tr>\n",
       "  </tbody>\n",
       "</table>\n",
       "</div>"
      ],
      "text/plain": [
       "       type    amount  oldbalanceOrg  newbalanceOrig  oldbalanceDest  \\\n",
       "0   PAYMENT   9839.64       170136.0       160296.36             0.0   \n",
       "1   PAYMENT   1864.28        21249.0        19384.72             0.0   \n",
       "2  TRANSFER    181.00          181.0            0.00             0.0   \n",
       "3  CASH_OUT    181.00          181.0            0.00         21182.0   \n",
       "4   PAYMENT  11668.14        41554.0        29885.86             0.0   \n",
       "\n",
       "   newbalanceDest  isFraud  Type_CASH_IN  Type_CASH_OUT  Type_DEBIT  \\\n",
       "0             0.0        0             0              0           0   \n",
       "1             0.0        0             0              0           0   \n",
       "2             0.0        1             0              0           0   \n",
       "3             0.0        1             0              1           0   \n",
       "4             0.0        0             0              0           0   \n",
       "\n",
       "   Type_PAYMENT  Type_TRANSFER  \n",
       "0             1              0  \n",
       "1             1              0  \n",
       "2             0              1  \n",
       "3             0              0  \n",
       "4             1              0  "
      ]
     },
     "execution_count": 12,
     "metadata": {},
     "output_type": "execute_result"
    }
   ],
   "source": [
    "fraud_df.head()"
   ]
  },
  {
   "cell_type": "code",
   "execution_count": 13,
   "id": "6559f974",
   "metadata": {},
   "outputs": [],
   "source": [
    "X = fraud_df[['Type_CASH_IN','Type_CASH_OUT','Type_DEBIT','Type_PAYMENT','Type_TRANSFER','amount','oldbalanceOrg','newbalanceOrig','oldbalanceDest','newbalanceDest']]\n",
    "y = fraud_df['isFraud']"
   ]
  },
  {
   "cell_type": "markdown",
   "id": "f911b76b",
   "metadata": {},
   "source": [
    "### Binary classification task with oversampling (SMOTE) technique"
   ]
  },
  {
   "cell_type": "code",
   "execution_count": 36,
   "id": "02e36744",
   "metadata": {},
   "outputs": [],
   "source": [
    "# just to test SMOTE for balancing the two classes\n",
    "# actual SMOTE step is incorporated into the pipelines below\n",
    "smote=SMOTE(random_state=35)\n",
    "x_smote, y_smote = smote.fit_resample(X, y)"
   ]
  },
  {
   "cell_type": "code",
   "execution_count": 37,
   "id": "8d173d59",
   "metadata": {
    "scrolled": true
   },
   "outputs": [
    {
     "name": "stdout",
     "output_type": "stream",
     "text": [
      "Before Oversampling, the shape of X and Y:  (6362620, 10) (6362620,)\n",
      "After Oversampling, the shape of X and Y : (12708814, 10) (12708814,)\n"
     ]
    }
   ],
   "source": [
    "print(\"Before Oversampling, the shape of X and Y: \", X.shape, y.shape)\n",
    "print('After Oversampling, the shape of X and Y :', x_smote.shape, y_smote.shape) "
   ]
  },
  {
   "cell_type": "code",
   "execution_count": 38,
   "id": "521b2805",
   "metadata": {},
   "outputs": [
    {
     "name": "stdout",
     "output_type": "stream",
     "text": [
      "0    6354407\n",
      "1       8213\n",
      "Name: isFraud, dtype: int64\n",
      "0    6354407\n",
      "1    6354407\n",
      "Name: isFraud, dtype: int64\n"
     ]
    }
   ],
   "source": [
    "print(y.value_counts())\n",
    "print(y_smote.value_counts())"
   ]
  },
  {
   "cell_type": "code",
   "execution_count": 39,
   "id": "e1c27e0c",
   "metadata": {},
   "outputs": [],
   "source": [
    "X_train, X_test, y_train, y_test=train_test_split(X, y, test_size=0.2, stratify=y, random_state=46)"
   ]
  },
  {
   "cell_type": "code",
   "execution_count": null,
   "id": "fb0a2ade",
   "metadata": {},
   "outputs": [],
   "source": [
    "# pipeline for (1) SMOTE, (2) removing zero or near-zero variance predictors, (3) scaling, and (4) logistic regression models (Ridge and Lasso)\n",
    "pipe = Pipeline_imb([('smote', SMOTE()), ('nearzerovar', VarianceThreshold()), ('preprocessing', StandardScaler()), ('Classifier', SVR())])\n",
    "param_grid_linear = [\n",
    "{'Classifier': [LogisticRegression(solver='saga', max_iter=10000, random_state=15)], \n",
    " 'Classifier__C': np.logspace(-3, 3, 7), 'Classifier__penalty': ['l1', 'l2'], 'smote': [SMOTE(random_state=77)], \n",
    " 'preprocessing': [StandardScaler(), MinMaxScaler()], 'nearzerovar__threshold': [0.01, 0.05]}\n",
    "]\n",
    "skfold = RepeatedStratifiedKFold(n_splits=5, n_repeats=2, random_state=29)\n",
    "grid_search_linear_smote = GridSearchCV(pipe, param_grid_linear, scoring='roc_auc', n_jobs=-1, cv=skfold).fit(X_train, y_train)"
   ]
  },
  {
   "cell_type": "code",
   "execution_count": null,
   "id": "fa1b23cc",
   "metadata": {},
   "outputs": [],
   "source": [
    "# pipeline for (1), (2), (3), and (4) SVM models (with linear and RBF kernels)\n",
    "param_grid_svm = [\n",
    "{'Classifier': [SVC(kernel='linear', max_iter=10000, random_state=51)], 'Classifier__C': np.logspace(-3, 3, 7), \n",
    " 'smote': [SMOTE(random_state=77)], 'preprocessing': [StandardScaler(), MinMaxScaler()], \n",
    " 'nearzerovar__threshold': [0.01, 0.05]},\n",
    "{'Classifier': [SVC(kernel='rbf', max_iter=10000, random_state=27)], 'Classifier__C': np.logspace(-3, 3, 7), \n",
    " 'Classifier__gamma': np.logspace(-3, 3, 7), 'smote': [SMOTE(random_state=77)], \n",
    " 'preprocessing': [StandardScaler(), MinMaxScaler()], 'nearzerovar__threshold': [0.01, 0.05]}\n",
    "]\n",
    "grid_search_svm_smote = GridSearchCV(pipe, param_grid_svm, scoring='roc_auc', n_jobs=-1, cv=skfold, iid=False).fit(X_train, y_train)"
   ]
  },
  {
   "cell_type": "code",
   "execution_count": null,
   "id": "7d6144f2",
   "metadata": {},
   "outputs": [],
   "source": [
    "# the best CV score, test scores and classification report, and best parameters for linear models\n",
    "# although test scores are presented, this is not used for the final model selection process\n",
    "print('Best CV AUC Linear={}'.format(grid_search_linear_smote.best_score_))\n",
    "print('Best Test AUC Linear={}'.format(grid_search_linear_smote.score(x_test, y_test)))\n",
    "y_pred = grid_search_linear_smote.predict(x_test)\n",
    "print('Best Test Accuracy Linear={}'.format(np.mean(y_test==y_pred)))\n",
    "print('Classification Report Linear:\\n {}'.format(classification_report(y_test, y_pred)))\n",
    "print('Best parameters Linear: {}'.format(grid_search_linear_smote.best_params_))\n",
    "\n",
    "# the best CV score, test scores and classification report, and best parameters for SVM models\n",
    "print('\\n\\nBest CV AUC SVM={}'.format(grid_search_svm_smote.best_score_))\n",
    "print('Best Test AUC SVM={}'.format(grid_search_svm_bin_smote.score(x_test, y_test)))\n",
    "y_pred = grid_search_svm_bin_smote.predict(x_test)\n",
    "print('Best Test Accuracy SVM={}'.format(np.mean(y_test==y_pred)))\n",
    "print('Classification Report SVM:\\n {}'.format(classification_report(y_test, y_pred)))\n",
    "print('Best parameters SVM: {}'.format(grid_search_svm_smote.best_params_))"
   ]
  },
  {
   "cell_type": "code",
   "execution_count": null,
   "id": "6510eb67",
   "metadata": {},
   "outputs": [],
   "source": []
  },
  {
   "cell_type": "markdown",
   "id": "519da95c",
   "metadata": {},
   "source": [
    "### Recall modeling"
   ]
  },
  {
   "cell_type": "code",
   "execution_count": 67,
   "id": "4757c7de",
   "metadata": {},
   "outputs": [
    {
     "data": {
      "text/plain": [
       "LogisticRegression(max_iter=1000)"
      ]
     },
     "execution_count": 67,
     "metadata": {},
     "output_type": "execute_result"
    }
   ],
   "source": [
    "from sklearn.linear_model import LogisticRegression\n",
    "from sklearn.metrics import classification_report\n",
    "\n",
    "lr = LogisticRegression(solver='lbfgs', max_iter=1000)\n",
    "lr.fit(X_train,y_train)"
   ]
  },
  {
   "cell_type": "code",
   "execution_count": 68,
   "id": "b339c0c5",
   "metadata": {},
   "outputs": [
    {
     "data": {
      "text/plain": [
       "DecisionTreeClassifier()"
      ]
     },
     "execution_count": 68,
     "metadata": {},
     "output_type": "execute_result"
    }
   ],
   "source": [
    "from sklearn.tree import DecisionTreeClassifier\n",
    "DT_model = DecisionTreeClassifier()\n",
    "DT_model.fit(X_train, y_train)"
   ]
  },
  {
   "cell_type": "code",
   "execution_count": 70,
   "id": "74c9c258",
   "metadata": {},
   "outputs": [
    {
     "data": {
      "text/plain": [
       "RandomForestClassifier()"
      ]
     },
     "execution_count": 70,
     "metadata": {},
     "output_type": "execute_result"
    }
   ],
   "source": [
    "from sklearn.ensemble import RandomForestClassifier\n",
    "RF_model = RandomForestClassifier()\n",
    "RF_model.fit(X_train, y_train.values.ravel())"
   ]
  },
  {
   "cell_type": "markdown",
   "id": "09a8a29b",
   "metadata": {},
   "source": [
    "Approximately 0.1% of our data observations are in fact instances of fraud. That means that if our model were to never predict a payment to be fraud, it would still be nearly 99.9% accurate. The metric we use for comparison must take this into account which leaves us with three options: Precision, Recall, and F1 score.\n",
    "\n",
    "**Precision**: Would measure how many of the payments the model identifies as fraud are actually fraudulent\n",
    "\n",
    "**Recall**: Would measure how many of the actual fraudulent payments the model identified as fraud\n",
    "\n",
    "**F1 Score**: A combination of the two\n",
    "\n",
    "In reality, this would be a decision to be made by the stakeholders based on what they feel is more important in the model's predictions. For the sake of this exercise, we will be using recall as one could reasonably argue that correctly identifying cases of fraud is more important than sounding a 'false alarm'.\n",
    "\n",
    "With the metric of comparison chosen, we will proceed to make predictions with our models and score them."
   ]
  },
  {
   "cell_type": "code",
   "execution_count": null,
   "id": "6efd16b6",
   "metadata": {},
   "outputs": [],
   "source": [
    "from sklearn.metrics import recall_score\n",
    "\n",
    "# Making predictions for our test data using our trained models\n",
    "lr_y_pred = lr_model.predict(X_test)\n",
    "dt_y_pred = dt_model.predict(X_test)\n",
    "rf_y_pred = rf_model.predict(X_test)\n",
    "\n",
    "# Printing our results\n",
    "print('Logistic Regression Recall:', recall_score(y_test, lr_y_pred))\n",
    "print('Decision Tree Recall:', recall_score(y_test, dt_y_pred))\n",
    "print('Random Forest Recall:', recall_score(y_test, rf_y_pred))"
   ]
  },
  {
   "cell_type": "code",
   "execution_count": null,
   "id": "04f0cbe3",
   "metadata": {},
   "outputs": [],
   "source": [
    "# Importing the library to perform cross-validation\n",
    "from sklearn.model_selection import cross_validate\n",
    "\n",
    "# Running the cross-validation on both Decision Tree and Random Forest models; specifying recall as the scoring metric\n",
    "dt_scores = cross_validate(dt_model, X_test, y_test, scoring='recall_macro')\n",
    "rf_scores = cross_validate(rf_model, X_test, y_test, scoring='recall_macro')\n",
    "\n",
    "# Printing the means of the cross-validations for both models\n",
    "print('Decision Tree Recall Cross-Validation:', np.mean(dt_scores['test_score']))\n",
    "print('Random Forest Recall Cross-Validation:', np.mean(rf_scores['test_score']))"
   ]
  },
  {
   "cell_type": "code",
   "execution_count": null,
   "id": "dc6211e6",
   "metadata": {},
   "outputs": [],
   "source": []
  },
  {
   "cell_type": "code",
   "execution_count": 55,
   "id": "b354562e",
   "metadata": {},
   "outputs": [],
   "source": [
    "from sklearn.preprocessing import Normalizer\n",
    "norm = Normalizer()\n",
    "cols = ['type', 'amount', 'oldbalanceOrg', 'newbalanceOrig', \\\n",
    "                   'oldbalanceDest', 'newbalanceDest', 'isFraud']\n",
    "fraud_copy = fraud_df[cols].copy(deep=True)"
   ]
  },
  {
   "cell_type": "code",
   "execution_count": 56,
   "id": "eb805ce4",
   "metadata": {
    "scrolled": true
   },
   "outputs": [
    {
     "data": {
      "text/html": [
       "<div>\n",
       "<style scoped>\n",
       "    .dataframe tbody tr th:only-of-type {\n",
       "        vertical-align: middle;\n",
       "    }\n",
       "\n",
       "    .dataframe tbody tr th {\n",
       "        vertical-align: top;\n",
       "    }\n",
       "\n",
       "    .dataframe thead th {\n",
       "        text-align: right;\n",
       "    }\n",
       "</style>\n",
       "<table border=\"1\" class=\"dataframe\">\n",
       "  <thead>\n",
       "    <tr style=\"text-align: right;\">\n",
       "      <th></th>\n",
       "      <th>type</th>\n",
       "      <th>amount</th>\n",
       "      <th>oldbalanceOrg</th>\n",
       "      <th>newbalanceOrig</th>\n",
       "      <th>oldbalanceDest</th>\n",
       "      <th>newbalanceDest</th>\n",
       "      <th>isFraud</th>\n",
       "    </tr>\n",
       "  </thead>\n",
       "  <tbody>\n",
       "    <tr>\n",
       "      <th>0</th>\n",
       "      <td>PAYMENT</td>\n",
       "      <td>0.042057</td>\n",
       "      <td>0.727196</td>\n",
       "      <td>0.685140</td>\n",
       "      <td>0.000000</td>\n",
       "      <td>0.0</td>\n",
       "      <td>0</td>\n",
       "    </tr>\n",
       "    <tr>\n",
       "      <th>1</th>\n",
       "      <td>PAYMENT</td>\n",
       "      <td>0.064680</td>\n",
       "      <td>0.737225</td>\n",
       "      <td>0.672544</td>\n",
       "      <td>0.000000</td>\n",
       "      <td>0.0</td>\n",
       "      <td>0</td>\n",
       "    </tr>\n",
       "    <tr>\n",
       "      <th>2</th>\n",
       "      <td>TRANSFER</td>\n",
       "      <td>0.707107</td>\n",
       "      <td>0.707107</td>\n",
       "      <td>0.000000</td>\n",
       "      <td>0.000000</td>\n",
       "      <td>0.0</td>\n",
       "      <td>1</td>\n",
       "    </tr>\n",
       "    <tr>\n",
       "      <th>3</th>\n",
       "      <td>CASH_OUT</td>\n",
       "      <td>0.008544</td>\n",
       "      <td>0.008544</td>\n",
       "      <td>0.000000</td>\n",
       "      <td>0.999927</td>\n",
       "      <td>0.0</td>\n",
       "      <td>1</td>\n",
       "    </tr>\n",
       "    <tr>\n",
       "      <th>4</th>\n",
       "      <td>PAYMENT</td>\n",
       "      <td>0.222259</td>\n",
       "      <td>0.791534</td>\n",
       "      <td>0.569276</td>\n",
       "      <td>0.000000</td>\n",
       "      <td>0.0</td>\n",
       "      <td>0</td>\n",
       "    </tr>\n",
       "  </tbody>\n",
       "</table>\n",
       "</div>"
      ],
      "text/plain": [
       "       type    amount  oldbalanceOrg  newbalanceOrig  oldbalanceDest  \\\n",
       "0   PAYMENT  0.042057       0.727196        0.685140        0.000000   \n",
       "1   PAYMENT  0.064680       0.737225        0.672544        0.000000   \n",
       "2  TRANSFER  0.707107       0.707107        0.000000        0.000000   \n",
       "3  CASH_OUT  0.008544       0.008544        0.000000        0.999927   \n",
       "4   PAYMENT  0.222259       0.791534        0.569276        0.000000   \n",
       "\n",
       "   newbalanceDest  isFraud  \n",
       "0             0.0        0  \n",
       "1             0.0        0  \n",
       "2             0.0        1  \n",
       "3             0.0        1  \n",
       "4             0.0        0  "
      ]
     },
     "execution_count": 56,
     "metadata": {},
     "output_type": "execute_result"
    }
   ],
   "source": [
    "normalized_val = ['amount', 'oldbalanceOrg', 'newbalanceOrig', 'oldbalanceDest', 'newbalanceDest']\n",
    "fraud_copy[normalized_val] = norm.fit_transform(fraud_copy[normalized_val])\n",
    "fraud_copy.head()"
   ]
  },
  {
   "cell_type": "code",
   "execution_count": 29,
   "id": "638fb4af",
   "metadata": {
    "scrolled": true
   },
   "outputs": [
    {
     "data": {
      "text/plain": [
       "<Figure size 432x288 with 0 Axes>"
      ]
     },
     "metadata": {},
     "output_type": "display_data"
    },
    {
     "data": {
      "image/png": "[encoded data removed]",
      "text/plain": [
       "<Figure size 720x360 with 1 Axes>"
      ]
     },
     "metadata": {},
     "output_type": "display_data"
    }
   ],
   "source": [
    "plt.clf()  # Clearing the previous plot formatting\n",
    "fig, ax = plt.subplots(figsize=(10,5))  # Assigning axes variable and resizing plot\n",
    "plt.boxplot(x=fraud_copy[normalized_val])  # Creating the boxplot\n",
    "ax.set_xticklabels(normalized_val, rotation=30)  # Relabeling the x-axis\n",
    "plt.ylabel('z-Score')\n",
    "plt.title('Boxplot of Dataset\\'s Transformed Numeric Variables', fontsize=15)  # Adding a title to the plot\n",
    "plt.style.use('ggplot')  # Selecting a plot style to include gridlines\n",
    "plt.show()  # Displaying the plot"
   ]
  }
 ],
 "metadata": {
  "kernelspec": {
   "display_name": "Python 3 (ipykernel)",
   "language": "python",
   "name": "python3"
  },
  "language_info": {
   "codemirror_mode": {
    "name": "ipython",
    "version": 3
   },
   "file_extension": ".py",
   "mimetype": "text/x-python",
   "name": "python",
   "nbconvert_exporter": "python",
   "pygments_lexer": "ipython3",
   "version": "3.12.4"
  }
 },
 "nbformat": 4,
 "nbformat_minor": 5
}
